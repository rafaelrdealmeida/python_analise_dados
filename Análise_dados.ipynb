{
  "nbformat": 4,
  "nbformat_minor": 0,
  "metadata": {
    "colab": {
      "provenance": [],
      "authorship_tag": "ABX9TyO5ktW5hL2B1LzTG/pz82Sq",
      "include_colab_link": true
    },
    "kernelspec": {
      "name": "python3",
      "display_name": "Python 3"
    },
    "language_info": {
      "name": "python"
    }
  },
  "cells": [
    {
      "cell_type": "markdown",
      "metadata": {
        "id": "view-in-github",
        "colab_type": "text"
      },
      "source": [
        "<a href=\"https://colab.research.google.com/github/rtosta/python_analise_dados/blob/main/An%C3%A1lise_dados.ipynb\" target=\"_parent\"><img src=\"https://colab.research.google.com/assets/colab-badge.svg\" alt=\"Open In Colab\"/></a>"
      ]
    },
    {
      "cell_type": "markdown",
      "source": [
        "# Nova seção Análise de dados - pandas \n"
      ],
      "metadata": {
        "id": "yBxUIckPeRUQ"
      }
    },
    {
      "cell_type": "code",
      "execution_count": 5,
      "metadata": {
        "id": "mk6cNtWOplnt"
      },
      "outputs": [],
      "source": [
        "import numpy as np\n",
        "import pandas as pd\n",
        "\n",
        "#As bibliotecas numpy e pandas são importantes para análise de dados no python"
      ]
    },
    {
      "cell_type": "code",
      "source": [
        "população = pd.Series([214, 45.81, 10.3, 33.93])\n",
        "população"
      ],
      "metadata": {
        "id": "MFvZhTxNq6-C",
        "colab": {
          "base_uri": "https://localhost:8080/"
        },
        "outputId": "5b7ad315-eb85-4d42-ab14-851201c7a2a0"
      },
      "execution_count": 6,
      "outputs": [
        {
          "output_type": "execute_result",
          "data": {
            "text/plain": [
              "0    214.00\n",
              "1     45.81\n",
              "2     10.30\n",
              "3     33.93\n",
              "dtype: float64"
            ]
          },
          "metadata": {},
          "execution_count": 6
        }
      ]
    },
    {
      "cell_type": "code",
      "source": [
        "habitantes = [214, 45.81, 10.3, 33.93]\n",
        "países = [\"Brasil\", \"Argentina\", \"Portugal\", \"Angola\"]\n",
        "lista_países = pd.Series(data=habitantes, index=países)\n",
        "lista_países"
      ],
      "metadata": {
        "id": "dPxYV0K90EGU",
        "colab": {
          "base_uri": "https://localhost:8080/"
        },
        "outputId": "8a2edd18-34a3-4e13-9ed6-009dfc81ac72"
      },
      "execution_count": 7,
      "outputs": [
        {
          "output_type": "execute_result",
          "data": {
            "text/plain": [
              "Brasil       214.00\n",
              "Argentina     45.81\n",
              "Portugal      10.30\n",
              "Angola        33.93\n",
              "dtype: float64"
            ]
          },
          "metadata": {},
          "execution_count": 7
        }
      ]
    },
    {
      "cell_type": "markdown",
      "source": [
        "# Pandas Dataframe"
      ],
      "metadata": {
        "id": "UjwmYMv5ftoq"
      }
    },
    {
      "cell_type": "code",
      "source": [
        "dados = {\n",
        "    \"Nomes\" : [\"Brasil\", \"Argentina\", \"Portugal\", \"Angola\"],\n",
        "    \"Habitantes\" : [214, 45.81, 10.3, 33.93],\n",
        "    \"IDH\": [0.754, 0.842, 0.864, 0.581]\n",
        "}\n",
        "\n",
        "países= pd.DataFrame(data=dados, index=nomes)\n",
        "países"
      ],
      "metadata": {
        "colab": {
          "base_uri": "https://localhost:8080/",
          "height": 217
        },
        "id": "U14LdHYEegWY",
        "outputId": "8067dcf4-6be2-49d9-d5db-bfac9689c82d"
      },
      "execution_count": 12,
      "outputs": [
        {
          "output_type": "error",
          "ename": "NameError",
          "evalue": "ignored",
          "traceback": [
            "\u001b[0;31m---------------------------------------------------------------------------\u001b[0m",
            "\u001b[0;31mNameError\u001b[0m                                 Traceback (most recent call last)",
            "\u001b[0;32m<ipython-input-12-f1c2282e4714>\u001b[0m in \u001b[0;36m<module>\u001b[0;34m\u001b[0m\n\u001b[1;32m      5\u001b[0m }\n\u001b[1;32m      6\u001b[0m \u001b[0;34m\u001b[0m\u001b[0m\n\u001b[0;32m----> 7\u001b[0;31m \u001b[0mpaíses\u001b[0m\u001b[0;34m=\u001b[0m \u001b[0mpd\u001b[0m\u001b[0;34m.\u001b[0m\u001b[0mDataFrame\u001b[0m\u001b[0;34m(\u001b[0m\u001b[0mdata\u001b[0m\u001b[0;34m=\u001b[0m\u001b[0mdados\u001b[0m\u001b[0;34m,\u001b[0m \u001b[0mindex\u001b[0m\u001b[0;34m=\u001b[0m\u001b[0mnomes\u001b[0m\u001b[0;34m)\u001b[0m\u001b[0;34m\u001b[0m\u001b[0;34m\u001b[0m\u001b[0m\n\u001b[0m\u001b[1;32m      8\u001b[0m \u001b[0mpaíses\u001b[0m\u001b[0;34m\u001b[0m\u001b[0;34m\u001b[0m\u001b[0m\n",
            "\u001b[0;31mNameError\u001b[0m: name 'nomes' is not defined"
          ]
        }
      ]
    },
    {
      "cell_type": "markdown",
      "source": [
        "# Propriedades"
      ],
      "metadata": {
        "id": "nakUQwmmk1is"
      }
    },
    {
      "cell_type": "code",
      "source": [
        "formato= países.shape[0]\n",
        "formato"
      ],
      "metadata": {
        "colab": {
          "base_uri": "https://localhost:8080/",
          "height": 183
        },
        "id": "ZXq3nQilgxP1",
        "outputId": "b7fc0042-09ce-4d09-a743-7ea42cb0555c"
      },
      "execution_count": 17,
      "outputs": [
        {
          "output_type": "error",
          "ename": "AttributeError",
          "evalue": "ignored",
          "traceback": [
            "\u001b[0;31m---------------------------------------------------------------------------\u001b[0m",
            "\u001b[0;31mAttributeError\u001b[0m                            Traceback (most recent call last)",
            "\u001b[0;32m<ipython-input-17-c03c76730129>\u001b[0m in \u001b[0;36m<module>\u001b[0;34m\u001b[0m\n\u001b[0;32m----> 1\u001b[0;31m \u001b[0mformato\u001b[0m\u001b[0;34m=\u001b[0m \u001b[0mpaíses\u001b[0m\u001b[0;34m.\u001b[0m\u001b[0mshape\u001b[0m\u001b[0;34m[\u001b[0m\u001b[0;36m0\u001b[0m\u001b[0;34m]\u001b[0m\u001b[0;34m\u001b[0m\u001b[0;34m\u001b[0m\u001b[0m\n\u001b[0m\u001b[1;32m      2\u001b[0m \u001b[0mformato\u001b[0m\u001b[0;34m\u001b[0m\u001b[0;34m\u001b[0m\u001b[0m\n",
            "\u001b[0;31mAttributeError\u001b[0m: 'list' object has no attribute 'shape'"
          ]
        }
      ]
    },
    {
      "cell_type": "code",
      "source": [
        "numero_colunas= países.shape[1]\n",
        "numero_colunas"
      ],
      "metadata": {
        "colab": {
          "base_uri": "https://localhost:8080/",
          "height": 183
        },
        "id": "IXKs1tRCk8sq",
        "outputId": "02286681-3d6c-4d49-f115-1b42bf11a9a5"
      },
      "execution_count": 14,
      "outputs": [
        {
          "output_type": "error",
          "ename": "AttributeError",
          "evalue": "ignored",
          "traceback": [
            "\u001b[0;31m---------------------------------------------------------------------------\u001b[0m",
            "\u001b[0;31mAttributeError\u001b[0m                            Traceback (most recent call last)",
            "\u001b[0;32m<ipython-input-14-2d0723008cc9>\u001b[0m in \u001b[0;36m<module>\u001b[0;34m\u001b[0m\n\u001b[0;32m----> 1\u001b[0;31m \u001b[0mnumero_colunas\u001b[0m\u001b[0;34m=\u001b[0m \u001b[0mpaíses\u001b[0m\u001b[0;34m.\u001b[0m\u001b[0mshape\u001b[0m\u001b[0;34m[\u001b[0m\u001b[0;36m1\u001b[0m\u001b[0;34m]\u001b[0m\u001b[0;34m\u001b[0m\u001b[0;34m\u001b[0m\u001b[0m\n\u001b[0m\u001b[1;32m      2\u001b[0m \u001b[0mnumero_colunas\u001b[0m\u001b[0;34m\u001b[0m\u001b[0;34m\u001b[0m\u001b[0m\n",
            "\u001b[0;31mAttributeError\u001b[0m: 'list' object has no attribute 'shape'"
          ]
        }
      ]
    },
    {
      "cell_type": "code",
      "source": [
        "indices= países.index\n",
        "indices"
      ],
      "metadata": {
        "colab": {
          "base_uri": "https://localhost:8080/"
        },
        "id": "QnlabfZPmEUb",
        "outputId": "b6a9ed9b-0c13-4e7a-a4cc-9a7fdf576586"
      },
      "execution_count": 13,
      "outputs": [
        {
          "output_type": "execute_result",
          "data": {
            "text/plain": [
              "<function list.index(value, start=0, stop=9223372036854775807, /)>"
            ]
          },
          "metadata": {},
          "execution_count": 13
        }
      ]
    },
    {
      "cell_type": "code",
      "source": [
        "colunas=países.columns\n",
        "colunas"
      ],
      "metadata": {
        "colab": {
          "base_uri": "https://localhost:8080/",
          "height": 183
        },
        "id": "lGeQ9EJtmWK8",
        "outputId": "1e48ba2d-0cbc-4a7b-8593-749dce033642"
      },
      "execution_count": 16,
      "outputs": [
        {
          "output_type": "error",
          "ename": "AttributeError",
          "evalue": "ignored",
          "traceback": [
            "\u001b[0;31m---------------------------------------------------------------------------\u001b[0m",
            "\u001b[0;31mAttributeError\u001b[0m                            Traceback (most recent call last)",
            "\u001b[0;32m<ipython-input-16-885a027e66cb>\u001b[0m in \u001b[0;36m<module>\u001b[0;34m\u001b[0m\n\u001b[0;32m----> 1\u001b[0;31m \u001b[0mcolunas\u001b[0m\u001b[0;34m=\u001b[0m\u001b[0mpaíses\u001b[0m\u001b[0;34m.\u001b[0m\u001b[0mcolumns\u001b[0m\u001b[0;34m\u001b[0m\u001b[0;34m\u001b[0m\u001b[0m\n\u001b[0m\u001b[1;32m      2\u001b[0m \u001b[0mcolunas\u001b[0m\u001b[0;34m\u001b[0m\u001b[0;34m\u001b[0m\u001b[0m\n",
            "\u001b[0;31mAttributeError\u001b[0m: 'list' object has no attribute 'columns'"
          ]
        }
      ]
    },
    {
      "cell_type": "markdown",
      "source": [
        "Index(['Nomes', 'Habitantes', 'IDH'], dtype='objects'"
      ],
      "metadata": {
        "id": "xXrJL11lmwKy"
      }
    },
    {
      "cell_type": "code",
      "source": [
        "tipo= type(países)\n",
        "tipo"
      ],
      "metadata": {
        "id": "cMHa5gtgm_oI"
      },
      "execution_count": null,
      "outputs": []
    },
    {
      "cell_type": "code",
      "source": [
        "indices= países.index.dtype\n",
        "print(indices)"
      ],
      "metadata": {
        "id": "kv6XIwilnr2e"
      },
      "execution_count": null,
      "outputs": []
    },
    {
      "cell_type": "markdown",
      "source": [
        "# Consulta e modificação de dados"
      ],
      "metadata": {
        "id": "GoKX5fYmn699"
      }
    },
    {
      "cell_type": "code",
      "source": [
        "países.iloc[0][2]"
      ],
      "metadata": {
        "id": "itzgZuKqoBxM"
      },
      "execution_count": null,
      "outputs": []
    },
    {
      "cell_type": "code",
      "source": [
        "países.iat[0,2]"
      ],
      "metadata": {
        "id": "4wVREMx_oI5R"
      },
      "execution_count": null,
      "outputs": []
    },
    {
      "cell_type": "code",
      "source": [
        "países.iloc[0][\"IDH\"]"
      ],
      "metadata": {
        "id": "WN8DBscSoNiO"
      },
      "execution_count": null,
      "outputs": []
    },
    {
      "cell_type": "code",
      "source": [
        "países.loc[\"Brasil\"][\"Habitantes\"]"
      ],
      "metadata": {
        "id": "NO2sb-22oV4o"
      },
      "execution_count": null,
      "outputs": []
    },
    {
      "cell_type": "code",
      "source": [
        "países.at[\"Brasil\", \"Habitantes\"]"
      ],
      "metadata": {
        "id": "G5heO6QbomdM"
      },
      "execution_count": null,
      "outputs": []
    },
    {
      "cell_type": "code",
      "source": [
        "países[\"Habitantes\"]"
      ],
      "metadata": {
        "id": "8Wjdx-4CpDW6"
      },
      "execution_count": null,
      "outputs": []
    },
    {
      "cell_type": "markdown",
      "source": [
        "# Gráficos"
      ],
      "metadata": {
        "id": "J5lm2mWPpk6e"
      }
    },
    {
      "cell_type": "code",
      "source": [
        "barras= países.plot(kind=\"bar\", legend=True, color= [\"red\"])\n",
        "barras"
      ],
      "metadata": {
        "id": "9C1CRjuIpn52"
      },
      "execution_count": null,
      "outputs": []
    },
    {
      "cell_type": "markdown",
      "source": [
        "# Trabalhando com arquivos"
      ],
      "metadata": {
        "id": "XXSXXRxlp6id"
      }
    },
    {
      "cell_type": "code",
      "source": [
        "cvs= \"contexto_inter.cvs\"\n",
        "contexto=pd.read_cvs(cvs)\n",
        "type(contexto.iloc[0][\"AB\"])"
      ],
      "metadata": {
        "id": "K3_r4GCRp95-"
      },
      "execution_count": null,
      "outputs": []
    }
  ]
}