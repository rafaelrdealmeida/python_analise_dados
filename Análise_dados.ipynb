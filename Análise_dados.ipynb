{
  "nbformat": 4,
  "nbformat_minor": 0,
  "metadata": {
    "colab": {
      "provenance": [],
      "authorship_tag": "ABX9TyPwSinR/cZXE+3mRLmxyMuw",
      "include_colab_link": true
    },
    "kernelspec": {
      "name": "python3",
      "display_name": "Python 3"
    },
    "language_info": {
      "name": "python"
    }
  },
  "cells": [
    {
      "cell_type": "markdown",
      "metadata": {
        "id": "view-in-github",
        "colab_type": "text"
      },
      "source": [
        "<a href=\"https://colab.research.google.com/github/rtosta/python_analise_dados/blob/main/An%C3%A1lise_dados.ipynb\" target=\"_parent\"><img src=\"https://colab.research.google.com/assets/colab-badge.svg\" alt=\"Open In Colab\"/></a>"
      ]
    },
    {
      "cell_type": "markdown",
      "source": [
        "# Nova seção Análise de dados - pandas \n"
      ],
      "metadata": {
        "id": "yBxUIckPeRUQ"
      }
    },
    {
      "cell_type": "code",
      "execution_count": 25,
      "metadata": {
        "id": "mk6cNtWOplnt"
      },
      "outputs": [],
      "source": [
        "import numpy as np\n",
        "import pandas as pd\n",
        "\n",
        "#As bibliotecas numpy e pandas são importantes para análise de dados no python"
      ]
    },
    {
      "cell_type": "code",
      "source": [
        "população = pd.Series([214, 45.81, 10.3, 33.93])\n",
        "população"
      ],
      "metadata": {
        "id": "MFvZhTxNq6-C",
        "colab": {
          "base_uri": "https://localhost:8080/"
        },
        "outputId": "62832daf-40f0-48de-d2ba-88d2416c87a9"
      },
      "execution_count": 26,
      "outputs": [
        {
          "output_type": "execute_result",
          "data": {
            "text/plain": [
              "0    214.00\n",
              "1     45.81\n",
              "2     10.30\n",
              "3     33.93\n",
              "dtype: float64"
            ]
          },
          "metadata": {},
          "execution_count": 26
        }
      ]
    },
    {
      "cell_type": "code",
      "source": [
        "habitantes = [214, 45.81, 10.3, 33.93]\n",
        "países = [\"Brasil\", \"Argentina\", \"Portugal\", \"Angola\"]\n",
        "lista_países = pd.Series(data=habitantes, index=países)\n",
        "lista_países"
      ],
      "metadata": {
        "id": "dPxYV0K90EGU",
        "colab": {
          "base_uri": "https://localhost:8080/"
        },
        "outputId": "96db344b-39cd-4597-e43c-33a654ea0563"
      },
      "execution_count": 27,
      "outputs": [
        {
          "output_type": "execute_result",
          "data": {
            "text/plain": [
              "Brasil       214.00\n",
              "Argentina     45.81\n",
              "Portugal      10.30\n",
              "Angola        33.93\n",
              "dtype: float64"
            ]
          },
          "metadata": {},
          "execution_count": 27
        }
      ]
    },
    {
      "cell_type": "markdown",
      "source": [
        "# Pandas Dataframe"
      ],
      "metadata": {
        "id": "UjwmYMv5ftoq"
      }
    },
    {
      "cell_type": "code",
      "source": [
        "dados = {\n",
        "    \"Nomes\" : [\"Brasil\", \"Argentina\", \"Portugal\", \"Angola\"],\n",
        "    \"Habitantes\" : [214, 45.81, 10.3, 33.93],\n",
        "    \"IDH\": [0.754, 0.842, 0.864, 0.581]\n",
        "}\n",
        "\n",
        "países= pd.DataFrame(data=dados, index=dados[\"Nomes\"])\n",
        "países"
      ],
      "metadata": {
        "colab": {
          "base_uri": "https://localhost:8080/",
          "height": 175
        },
        "id": "U14LdHYEegWY",
        "outputId": "cad849ce-f626-44ad-e1a8-75b6e177a27c"
      },
      "execution_count": 28,
      "outputs": [
        {
          "output_type": "execute_result",
          "data": {
            "text/plain": [
              "               Nomes  Habitantes    IDH\n",
              "Brasil        Brasil      214.00  0.754\n",
              "Argentina  Argentina       45.81  0.842\n",
              "Portugal    Portugal       10.30  0.864\n",
              "Angola        Angola       33.93  0.581"
            ],
            "text/html": [
              "\n",
              "  <div id=\"df-6a7c1686-d8e1-4756-8fc5-87f239a71e06\">\n",
              "    <div class=\"colab-df-container\">\n",
              "      <div>\n",
              "<style scoped>\n",
              "    .dataframe tbody tr th:only-of-type {\n",
              "        vertical-align: middle;\n",
              "    }\n",
              "\n",
              "    .dataframe tbody tr th {\n",
              "        vertical-align: top;\n",
              "    }\n",
              "\n",
              "    .dataframe thead th {\n",
              "        text-align: right;\n",
              "    }\n",
              "</style>\n",
              "<table border=\"1\" class=\"dataframe\">\n",
              "  <thead>\n",
              "    <tr style=\"text-align: right;\">\n",
              "      <th></th>\n",
              "      <th>Nomes</th>\n",
              "      <th>Habitantes</th>\n",
              "      <th>IDH</th>\n",
              "    </tr>\n",
              "  </thead>\n",
              "  <tbody>\n",
              "    <tr>\n",
              "      <th>Brasil</th>\n",
              "      <td>Brasil</td>\n",
              "      <td>214.00</td>\n",
              "      <td>0.754</td>\n",
              "    </tr>\n",
              "    <tr>\n",
              "      <th>Argentina</th>\n",
              "      <td>Argentina</td>\n",
              "      <td>45.81</td>\n",
              "      <td>0.842</td>\n",
              "    </tr>\n",
              "    <tr>\n",
              "      <th>Portugal</th>\n",
              "      <td>Portugal</td>\n",
              "      <td>10.30</td>\n",
              "      <td>0.864</td>\n",
              "    </tr>\n",
              "    <tr>\n",
              "      <th>Angola</th>\n",
              "      <td>Angola</td>\n",
              "      <td>33.93</td>\n",
              "      <td>0.581</td>\n",
              "    </tr>\n",
              "  </tbody>\n",
              "</table>\n",
              "</div>\n",
              "      <button class=\"colab-df-convert\" onclick=\"convertToInteractive('df-6a7c1686-d8e1-4756-8fc5-87f239a71e06')\"\n",
              "              title=\"Convert this dataframe to an interactive table.\"\n",
              "              style=\"display:none;\">\n",
              "        \n",
              "  <svg xmlns=\"http://www.w3.org/2000/svg\" height=\"24px\"viewBox=\"0 0 24 24\"\n",
              "       width=\"24px\">\n",
              "    <path d=\"M0 0h24v24H0V0z\" fill=\"none\"/>\n",
              "    <path d=\"M18.56 5.44l.94 2.06.94-2.06 2.06-.94-2.06-.94-.94-2.06-.94 2.06-2.06.94zm-11 1L8.5 8.5l.94-2.06 2.06-.94-2.06-.94L8.5 2.5l-.94 2.06-2.06.94zm10 10l.94 2.06.94-2.06 2.06-.94-2.06-.94-.94-2.06-.94 2.06-2.06.94z\"/><path d=\"M17.41 7.96l-1.37-1.37c-.4-.4-.92-.59-1.43-.59-.52 0-1.04.2-1.43.59L10.3 9.45l-7.72 7.72c-.78.78-.78 2.05 0 2.83L4 21.41c.39.39.9.59 1.41.59.51 0 1.02-.2 1.41-.59l7.78-7.78 2.81-2.81c.8-.78.8-2.07 0-2.86zM5.41 20L4 18.59l7.72-7.72 1.47 1.35L5.41 20z\"/>\n",
              "  </svg>\n",
              "      </button>\n",
              "      \n",
              "  <style>\n",
              "    .colab-df-container {\n",
              "      display:flex;\n",
              "      flex-wrap:wrap;\n",
              "      gap: 12px;\n",
              "    }\n",
              "\n",
              "    .colab-df-convert {\n",
              "      background-color: #E8F0FE;\n",
              "      border: none;\n",
              "      border-radius: 50%;\n",
              "      cursor: pointer;\n",
              "      display: none;\n",
              "      fill: #1967D2;\n",
              "      height: 32px;\n",
              "      padding: 0 0 0 0;\n",
              "      width: 32px;\n",
              "    }\n",
              "\n",
              "    .colab-df-convert:hover {\n",
              "      background-color: #E2EBFA;\n",
              "      box-shadow: 0px 1px 2px rgba(60, 64, 67, 0.3), 0px 1px 3px 1px rgba(60, 64, 67, 0.15);\n",
              "      fill: #174EA6;\n",
              "    }\n",
              "\n",
              "    [theme=dark] .colab-df-convert {\n",
              "      background-color: #3B4455;\n",
              "      fill: #D2E3FC;\n",
              "    }\n",
              "\n",
              "    [theme=dark] .colab-df-convert:hover {\n",
              "      background-color: #434B5C;\n",
              "      box-shadow: 0px 1px 3px 1px rgba(0, 0, 0, 0.15);\n",
              "      filter: drop-shadow(0px 1px 2px rgba(0, 0, 0, 0.3));\n",
              "      fill: #FFFFFF;\n",
              "    }\n",
              "  </style>\n",
              "\n",
              "      <script>\n",
              "        const buttonEl =\n",
              "          document.querySelector('#df-6a7c1686-d8e1-4756-8fc5-87f239a71e06 button.colab-df-convert');\n",
              "        buttonEl.style.display =\n",
              "          google.colab.kernel.accessAllowed ? 'block' : 'none';\n",
              "\n",
              "        async function convertToInteractive(key) {\n",
              "          const element = document.querySelector('#df-6a7c1686-d8e1-4756-8fc5-87f239a71e06');\n",
              "          const dataTable =\n",
              "            await google.colab.kernel.invokeFunction('convertToInteractive',\n",
              "                                                     [key], {});\n",
              "          if (!dataTable) return;\n",
              "\n",
              "          const docLinkHtml = 'Like what you see? Visit the ' +\n",
              "            '<a target=\"_blank\" href=https://colab.research.google.com/notebooks/data_table.ipynb>data table notebook</a>'\n",
              "            + ' to learn more about interactive tables.';\n",
              "          element.innerHTML = '';\n",
              "          dataTable['output_type'] = 'display_data';\n",
              "          await google.colab.output.renderOutput(dataTable, element);\n",
              "          const docLink = document.createElement('div');\n",
              "          docLink.innerHTML = docLinkHtml;\n",
              "          element.appendChild(docLink);\n",
              "        }\n",
              "      </script>\n",
              "    </div>\n",
              "  </div>\n",
              "  "
            ]
          },
          "metadata": {},
          "execution_count": 28
        }
      ]
    },
    {
      "cell_type": "markdown",
      "source": [
        "# Propriedades"
      ],
      "metadata": {
        "id": "nakUQwmmk1is"
      }
    },
    {
      "cell_type": "code",
      "source": [
        "formato= países.shape[0]\n",
        "formato"
      ],
      "metadata": {
        "colab": {
          "base_uri": "https://localhost:8080/"
        },
        "id": "ZXq3nQilgxP1",
        "outputId": "a13f6d6e-430a-4caf-fe65-1c6eb321d79a"
      },
      "execution_count": 29,
      "outputs": [
        {
          "output_type": "execute_result",
          "data": {
            "text/plain": [
              "4"
            ]
          },
          "metadata": {},
          "execution_count": 29
        }
      ]
    },
    {
      "cell_type": "code",
      "source": [
        "numero_colunas= países.shape[1]\n",
        "numero_colunas"
      ],
      "metadata": {
        "colab": {
          "base_uri": "https://localhost:8080/"
        },
        "id": "IXKs1tRCk8sq",
        "outputId": "6dd87dcd-6da7-4878-acaa-f0d0bc7a2d0e"
      },
      "execution_count": 30,
      "outputs": [
        {
          "output_type": "execute_result",
          "data": {
            "text/plain": [
              "3"
            ]
          },
          "metadata": {},
          "execution_count": 30
        }
      ]
    },
    {
      "cell_type": "code",
      "source": [
        "indices= países.index\n",
        "indices"
      ],
      "metadata": {
        "colab": {
          "base_uri": "https://localhost:8080/"
        },
        "id": "QnlabfZPmEUb",
        "outputId": "7308d3a7-d0e2-4f75-dc3c-8892ac4fa52d"
      },
      "execution_count": 31,
      "outputs": [
        {
          "output_type": "execute_result",
          "data": {
            "text/plain": [
              "Index(['Brasil', 'Argentina', 'Portugal', 'Angola'], dtype='object')"
            ]
          },
          "metadata": {},
          "execution_count": 31
        }
      ]
    },
    {
      "cell_type": "code",
      "source": [
        "colunas=países.columns\n",
        "colunas"
      ],
      "metadata": {
        "colab": {
          "base_uri": "https://localhost:8080/"
        },
        "id": "lGeQ9EJtmWK8",
        "outputId": "edea8e27-3c1b-40e0-c6a6-4f11d6932835"
      },
      "execution_count": 32,
      "outputs": [
        {
          "output_type": "execute_result",
          "data": {
            "text/plain": [
              "Index(['Nomes', 'Habitantes', 'IDH'], dtype='object')"
            ]
          },
          "metadata": {},
          "execution_count": 32
        }
      ]
    },
    {
      "cell_type": "markdown",
      "source": [
        "Index(['Nomes', 'Habitantes', 'IDH'], dtype='objects'"
      ],
      "metadata": {
        "id": "xXrJL11lmwKy"
      }
    },
    {
      "cell_type": "code",
      "source": [
        "tipo= type(países)\n",
        "tipo"
      ],
      "metadata": {
        "colab": {
          "base_uri": "https://localhost:8080/"
        },
        "id": "cMHa5gtgm_oI",
        "outputId": "25e19930-c70a-4481-e28f-c098ddd3e463"
      },
      "execution_count": 33,
      "outputs": [
        {
          "output_type": "execute_result",
          "data": {
            "text/plain": [
              "pandas.core.frame.DataFrame"
            ]
          },
          "metadata": {},
          "execution_count": 33
        }
      ]
    },
    {
      "cell_type": "code",
      "source": [
        "indices= países.index.dtype\n",
        "print(indices)"
      ],
      "metadata": {
        "colab": {
          "base_uri": "https://localhost:8080/"
        },
        "id": "kv6XIwilnr2e",
        "outputId": "ba56be2c-018a-4cab-de2e-403fc6591403"
      },
      "execution_count": 34,
      "outputs": [
        {
          "output_type": "stream",
          "name": "stdout",
          "text": [
            "object\n"
          ]
        }
      ]
    },
    {
      "cell_type": "markdown",
      "source": [
        "# Consulta e modificação de dados"
      ],
      "metadata": {
        "id": "GoKX5fYmn699"
      }
    },
    {
      "cell_type": "code",
      "source": [
        "países.iloc[0][2]"
      ],
      "metadata": {
        "colab": {
          "base_uri": "https://localhost:8080/"
        },
        "id": "itzgZuKqoBxM",
        "outputId": "143878bf-8f90-44d7-8b90-76090eecad65"
      },
      "execution_count": 35,
      "outputs": [
        {
          "output_type": "execute_result",
          "data": {
            "text/plain": [
              "0.754"
            ]
          },
          "metadata": {},
          "execution_count": 35
        }
      ]
    },
    {
      "cell_type": "code",
      "source": [
        "países.iat[0,2]"
      ],
      "metadata": {
        "colab": {
          "base_uri": "https://localhost:8080/"
        },
        "id": "4wVREMx_oI5R",
        "outputId": "7a4550a1-a798-4a39-acf9-45e709dfaff1"
      },
      "execution_count": 36,
      "outputs": [
        {
          "output_type": "execute_result",
          "data": {
            "text/plain": [
              "0.754"
            ]
          },
          "metadata": {},
          "execution_count": 36
        }
      ]
    },
    {
      "cell_type": "code",
      "source": [
        "países.iloc[0][\"IDH\"]"
      ],
      "metadata": {
        "colab": {
          "base_uri": "https://localhost:8080/"
        },
        "id": "WN8DBscSoNiO",
        "outputId": "87657920-5344-4287-fecc-4b203b57f8ee"
      },
      "execution_count": 37,
      "outputs": [
        {
          "output_type": "execute_result",
          "data": {
            "text/plain": [
              "0.754"
            ]
          },
          "metadata": {},
          "execution_count": 37
        }
      ]
    },
    {
      "cell_type": "code",
      "source": [
        "países.loc[\"Brasil\"][\"Habitantes\"]"
      ],
      "metadata": {
        "colab": {
          "base_uri": "https://localhost:8080/"
        },
        "id": "NO2sb-22oV4o",
        "outputId": "6f06c75e-5e04-4d50-fb6d-df003c230fc5"
      },
      "execution_count": 38,
      "outputs": [
        {
          "output_type": "execute_result",
          "data": {
            "text/plain": [
              "214.0"
            ]
          },
          "metadata": {},
          "execution_count": 38
        }
      ]
    },
    {
      "cell_type": "code",
      "source": [
        "países.at[\"Brasil\", \"Habitantes\"]"
      ],
      "metadata": {
        "colab": {
          "base_uri": "https://localhost:8080/"
        },
        "id": "G5heO6QbomdM",
        "outputId": "afae0b26-0ec6-4ded-a7b3-df0d68946ff5"
      },
      "execution_count": 39,
      "outputs": [
        {
          "output_type": "execute_result",
          "data": {
            "text/plain": [
              "214.0"
            ]
          },
          "metadata": {},
          "execution_count": 39
        }
      ]
    },
    {
      "cell_type": "code",
      "source": [
        "países[\"Habitantes\"]"
      ],
      "metadata": {
        "colab": {
          "base_uri": "https://localhost:8080/"
        },
        "id": "8Wjdx-4CpDW6",
        "outputId": "1da62967-d4f3-457e-af6f-c9cf1abb9d25"
      },
      "execution_count": 40,
      "outputs": [
        {
          "output_type": "execute_result",
          "data": {
            "text/plain": [
              "Brasil       214.00\n",
              "Argentina     45.81\n",
              "Portugal      10.30\n",
              "Angola        33.93\n",
              "Name: Habitantes, dtype: float64"
            ]
          },
          "metadata": {},
          "execution_count": 40
        }
      ]
    },
    {
      "cell_type": "markdown",
      "source": [
        "# Gráficos"
      ],
      "metadata": {
        "id": "J5lm2mWPpk6e"
      }
    },
    {
      "cell_type": "code",
      "source": [
        "barras= países.plot(kind=\"bar\", legend=True, color= [\"red\"])\n",
        "barras"
      ],
      "metadata": {
        "colab": {
          "base_uri": "https://localhost:8080/",
          "height": 321
        },
        "id": "9C1CRjuIpn52",
        "outputId": "8218daea-7e64-4e56-eeeb-858a5fe1402c"
      },
      "execution_count": 41,
      "outputs": [
        {
          "output_type": "execute_result",
          "data": {
            "text/plain": [
              "<matplotlib.axes._subplots.AxesSubplot at 0x7f5befb75b50>"
            ]
          },
          "metadata": {},
          "execution_count": 41
        },
        {
          "output_type": "display_data",
          "data": {
            "text/plain": [
              "<Figure size 432x288 with 1 Axes>"
            ],
            "image/png": "[encoded data removed]"
          },
          "metadata": {
            "needs_background": "light"
          }
        }
      ]
    },
    {
      "cell_type": "markdown",
      "source": [
        "# Trabalhando com arquivos"
      ],
      "metadata": {
        "id": "XXSXXRxlp6id"
      }
    },
    {
      "cell_type": "code",
      "source": [
        "csv= \"https://raw.githubusercontent.com/rtosta/python_analise_dados/main/contexto_inter.csv\"\n",
        "contexto=pd.read_csv(csv)\n",
        "type(contexto.iloc[0][\"AB\"])"
      ],
      "metadata": {
        "colab": {
          "base_uri": "https://localhost:8080/"
        },
        "id": "K3_r4GCRp95-",
        "outputId": "c0328e82-b738-4143-fbea-3a98307bccf8"
      },
      "execution_count": 48,
      "outputs": [
        {
          "output_type": "execute_result",
          "data": {
            "text/plain": [
              "str"
            ]
          },
          "metadata": {},
          "execution_count": 48
        }
      ]
    },
    {
      "cell_type": "code",
      "source": [
        "#https://labriunesp.org/docs/projetos/dados/irjournalsbr/infos/metadados\n",
        "contexto"
      ],
      "metadata": {
        "colab": {
          "base_uri": "https://localhost:8080/",
          "height": 1000
        },
        "id": "-J4Z3Mq4ygs_",
        "outputId": "a0e06a73-3325-4a8d-a1a2-2a2d0f1cd219"
      },
      "execution_count": 46,
      "outputs": [
        {
          "output_type": "execute_result",
          "data": {
            "text/plain": [
              "                                                    AU  \\\n",
              "0                                Eugênio Vargas Garcia   \n",
              "1                               Juan Gabriel Tokatlian   \n",
              "2                       Maria Guadalupe Moog Rodrigues   \n",
              "3                                      Mark Everingham   \n",
              "4                                          Mônica Herz   \n",
              "..                                                 ...   \n",
              "419  Leandro Wolpert dos Santos;André Pimentel Ferr...   \n",
              "420                     Cairo Gabriel Borges Junqueira   \n",
              "421         Virginia Soledad Busilli;María Belén Jaime   \n",
              "422             Bruno Hendler;André Luiz Cançado Motta   \n",
              "423                              João Fernando Finazzi   \n",
              "\n",
              "                                                    OG  \\\n",
              "0                                                  NaN   \n",
              "1                                                  NaN   \n",
              "2                                                  NaN   \n",
              "3                                                  NaN   \n",
              "4                                                  NaN   \n",
              "..                                                 ...   \n",
              "419  Institute of Social and Political Studies of t...   \n",
              "420                Federal University of Sergipe (UFS)   \n",
              "421  Scientific and Technological Center of the Nat...   \n",
              "422  Federal University of Santa Maria (UFSM);Feder...   \n",
              "423  San Tiago Dantas Interinstitutional Graduate P...   \n",
              "\n",
              "                                                    TI  \\\n",
              "0    Estados Unidos e Grã-Bretanha no Brasil: trans...   \n",
              "1    Colômbia: mais insegurança humana, menos segur...   \n",
              "2    Redes transnacionais de advocacia pública: est...   \n",
              "3    Direitos de propriedade e cidadania em socieda...   \n",
              "4    O Crescimento da área de relações internaciona...   \n",
              "..                                                 ...   \n",
              "419  Explaining the Changes in Brazilian Foreign Po...   \n",
              "420  From Municipalist Activism to Institutional Ch...   \n",
              "421  Chinese Investments in Brazil: Economic Diplom...   \n",
              "422  Military Build-up in Southeast Asia and the So...   \n",
              "423  Badges Without Borders: How Global Counterinsu...   \n",
              "\n",
              "                                                    AB  \\\n",
              "0    Com enfoque sobretudo na década de 20, este ar...   \n",
              "1    No contexto da grave crise que atravessa a reg...   \n",
              "2    O projeto Planafloro, financiado pelo Banco Mu...   \n",
              "3    Este estudo mostra como as disputas de terra d...   \n",
              "4    O artigo analisa a produção acadêmica brasilei...   \n",
              "..                                                 ...   \n",
              "419  AbstractThe administration of President Michel...   \n",
              "420  AbstractMercosur has gone through distinct pha...   \n",
              "421  AbstractThe People’s Republic of China has con...   \n",
              "422  AbstractAbstract: The South China Sea (SCS) is...   \n",
              "423                                                NaN   \n",
              "\n",
              "                                                    DE  \\\n",
              "0    Brazil-United States; Brazil-Britain; Transiti...   \n",
              "1    Andes Region; Human Insecurity; US Interventio...   \n",
              "2    Inspection Panel; World Bank; Transnational Ne...   \n",
              "3    Property Rights; Conflict Resolution; Citizens...   \n",
              "4    International Relations Theory; International ...   \n",
              "..                                                 ...   \n",
              "419  foreign policy change; Brazilian foreign polic...   \n",
              "420  Mercosur; Mercocities; FCCR; subnational gover...   \n",
              "421  Latin America, China, economic diplomacy, FDI,...   \n",
              "422  South China Sea; Southeast Asia; China; milita...   \n",
              "423                                                NaN   \n",
              "\n",
              "                                                    CR    BP_EP      PY  \\\n",
              "0    ABREU, Marcelo de Paiva. (1973), \"The Niemeyer...      NaN  2002.0   \n",
              "1    DORF, Robert H. (1996), \"Democratization and F...  129-166  2002.0   \n",
              "2    BROWDER, John. (1998), Report - World Bank Mid...      NaN  2002.0   \n",
              "3    ADAMS, Martin, SIBANDA, Sipho e THOMAS, Glen. ...      NaN  2002.0   \n",
              "4    ABREU, Marcelo de Paiva. (1984), \"O Brasil e a...      NaN  2002.0   \n",
              "..                                                 ...      ...     ...   \n",
              "419  Almeida, P R de. 2003. ‘A Política Internacion...  489-513  2021.0   \n",
              "420  Aalberts, T. 2005. ‘Sovereignty Reloaded? A Co...  515-540  2021.0   \n",
              "421  Abeliansky, A. L and I Martínez-Zarzoso. 2019....  541-564  2021.0   \n",
              "422  Astro Awani [online]. 2013. ‘PM Announces Sett...  565-591  2021.0   \n",
              "423  Latham, M. 2011. The Right Kind of Revolution:...  593-596  2021.0   \n",
              "\n",
              "                    IS  LA                                DI  \\\n",
              "0    v. 24 n. 1 (2002)  pt   10.1590/S0102-85292002000100001   \n",
              "1    v. 24 n. 1 (2002)  pt   10.1590/S0102-85292002000100002   \n",
              "2    v. 24 n. 1 (2002)  pt   10.1590/S0102-85292002000100003   \n",
              "3    v. 24 n. 1 (2002)  pt   10.1590/S0102-85292002000100004   \n",
              "4    v. 24 n. 1 (2002)  pt   10.1590/S0102-85292002000100005   \n",
              "..                 ...  ..                               ...   \n",
              "419  v. 43 n. 3 (2021)  en  10.1590/S0102-8529.2019430300003   \n",
              "420  v. 43 n. 3 (2021)  en  10.1590/S0102-8529.2019430300004   \n",
              "421  v. 43 n. 3 (2021)  en  10.1590/S0102-8529.2019430300005   \n",
              "422  v. 43 n. 3 (2021)  en  10.1590/S0102-8529.2019430300006   \n",
              "423  v. 43 n. 3 (2021)  en  10.1590/S0102-8529.2019430300007   \n",
              "\n",
              "                         SO         SN  \\\n",
              "0    Contexto Internacional  1982-0240   \n",
              "1    Contexto Internacional  1982-0240   \n",
              "2    Contexto Internacional  1982-0240   \n",
              "3    Contexto Internacional  1982-0240   \n",
              "4    Contexto Internacional  1982-0240   \n",
              "..                      ...        ...   \n",
              "419  Contexto Internacional  1982-0240   \n",
              "420  Contexto Internacional  1982-0240   \n",
              "421  Contexto Internacional  1982-0240   \n",
              "422  Contexto Internacional  1982-0240   \n",
              "423  Contexto Internacional  1982-0240   \n",
              "\n",
              "                                                   URL  \\\n",
              "0    http://www.scielo.br/j/cint/a/cMTYLM3xwfzKNT4q...   \n",
              "1    http://www.scielo.br/j/cint/a/z8kxTngCqVMZD65G...   \n",
              "2    http://www.scielo.br/j/cint/a/46s45RBfLWLqwZx9...   \n",
              "3    http://www.scielo.br/j/cint/a/7pRZMvTywYzZXDfJ...   \n",
              "4    http://www.scielo.br/j/cint/a/dTq3jbQQtT7DgRDj...   \n",
              "..                                                 ...   \n",
              "419  http://www.scielo.br/j/cint/a/7gnzcsdC6C3mcsm3...   \n",
              "420  http://www.scielo.br/j/cint/a/vqh4SkKwm4DknmfQ...   \n",
              "421  http://www.scielo.br/j/cint/a/czWnkqcLF8RfYDjR...   \n",
              "422  http://www.scielo.br/j/cint/a/jp66xVMw6bFGVJQH...   \n",
              "423  http://www.scielo.br/j/cint/a/zJtYy5mtQsMwTNpQ...   \n",
              "\n",
              "                                                PDFURL  \\\n",
              "0    https://www.scielo.br/j/cint/a/cMTYLM3xwfzKNT4...   \n",
              "1    https://www.scielo.br/j/cint/a/z8kxTngCqVMZD65...   \n",
              "2    https://www.scielo.br/j/cint/a/46s45RBfLWLqwZx...   \n",
              "3    https://www.scielo.br/j/cint/a/7pRZMvTywYzZXDf...   \n",
              "4    https://www.scielo.br/j/cint/a/dTq3jbQQtT7DgRD...   \n",
              "..                                                 ...   \n",
              "419  https://www.scielo.br/j/cint/a/7gnzcsdC6C3mcsm...   \n",
              "420  https://www.scielo.br/j/cint/a/vqh4SkKwm4Dknmf...   \n",
              "421  https://www.scielo.br/j/cint/a/czWnkqcLF8RfYDj...   \n",
              "422  https://www.scielo.br/j/cint/a/jp66xVMw6bFGVJQ...   \n",
              "423  https://www.scielo.br/j/cint/a/zJtYy5mtQsMwTNp...   \n",
              "\n",
              "                                           loc_arquivo     size  \n",
              "0    /media/hdvm09/bd/007/002/002/003/contexto_inte...   139729  \n",
              "1    /media/hdvm09/bd/007/002/002/003/contexto_inte...   154457  \n",
              "2    /media/hdvm09/bd/007/002/002/003/contexto_inte...   206246  \n",
              "3    /media/hdvm09/bd/007/002/002/003/contexto_inte...   147182  \n",
              "4    /media/hdvm09/bd/007/002/002/003/contexto_inte...   157795  \n",
              "..                                                 ...      ...  \n",
              "419  /media/hdvm09/bd/007/002/002/003/contexto_inte...  1702907  \n",
              "420  /media/hdvm09/bd/007/002/002/003/contexto_inte...  2147350  \n",
              "421  /media/hdvm09/bd/007/002/002/003/contexto_inte...  1823392  \n",
              "422  /media/hdvm09/bd/007/002/002/003/contexto_inte...  2166459  \n",
              "423  /media/hdvm09/bd/007/002/002/003/contexto_inte...   733593  \n",
              "\n",
              "[424 rows x 17 columns]"
            ],
            "text/html": [
              "\n",
              "  <div id=\"df-775fc19a-ff4b-4520-b3be-48485fd15c1c\">\n",
              "    <div class=\"colab-df-container\">\n",
              "      <div>\n",
              "<style scoped>\n",
              "    .dataframe tbody tr th:only-of-type {\n",
              "        vertical-align: middle;\n",
              "    }\n",
              "\n",
              "    .dataframe tbody tr th {\n",
              "        vertical-align: top;\n",
              "    }\n",
              "\n",
              "    .dataframe thead th {\n",
              "        text-align: right;\n",
              "    }\n",
              "</style>\n",
              "<table border=\"1\" class=\"dataframe\">\n",
              "  <thead>\n",
              "    <tr style=\"text-align: right;\">\n",
              "      <th></th>\n",
              "      <th>AU</th>\n",
              "      <th>OG</th>\n",
              "      <th>TI</th>\n",
              "      <th>AB</th>\n",
              "      <th>DE</th>\n",
              "      <th>CR</th>\n",
              "      <th>BP_EP</th>\n",
              "      <th>PY</th>\n",
              "      <th>IS</th>\n",
              "      <th>LA</th>\n",
              "      <th>DI</th>\n",
              "      <th>SO</th>\n",
              "      <th>SN</th>\n",
              "      <th>URL</th>\n",
              "      <th>PDFURL</th>\n",
              "      <th>loc_arquivo</th>\n",
              "      <th>size</th>\n",
              "    </tr>\n",
              "  </thead>\n",
              "  <tbody>\n",
              "    <tr>\n",
              "      <th>0</th>\n",
              "      <td>Eugênio Vargas Garcia</td>\n",
              "      <td>NaN</td>\n",
              "      <td>Estados Unidos e Grã-Bretanha no Brasil: trans...</td>\n",
              "      <td>Com enfoque sobretudo na década de 20, este ar...</td>\n",
              "      <td>Brazil-United States; Brazil-Britain; Transiti...</td>\n",
              "      <td>ABREU, Marcelo de Paiva. (1973), \"The Niemeyer...</td>\n",
              "      <td>NaN</td>\n",
              "      <td>2002.0</td>\n",
              "      <td>v. 24 n. 1 (2002)</td>\n",
              "      <td>pt</td>\n",
              "      <td>10.1590/S0102-85292002000100001</td>\n",
              "      <td>Contexto Internacional</td>\n",
              "      <td>1982-0240</td>\n",
              "      <td>http://www.scielo.br/j/cint/a/cMTYLM3xwfzKNT4q...</td>\n",
              "      <td>https://www.scielo.br/j/cint/a/cMTYLM3xwfzKNT4...</td>\n",
              "      <td>/media/hdvm09/bd/007/002/002/003/contexto_inte...</td>\n",
              "      <td>139729</td>\n",
              "    </tr>\n",
              "    <tr>\n",
              "      <th>1</th>\n",
              "      <td>Juan Gabriel Tokatlian</td>\n",
              "      <td>NaN</td>\n",
              "      <td>Colômbia: mais insegurança humana, menos segur...</td>\n",
              "      <td>No contexto da grave crise que atravessa a reg...</td>\n",
              "      <td>Andes Region; Human Insecurity; US Interventio...</td>\n",
              "      <td>DORF, Robert H. (1996), \"Democratization and F...</td>\n",
              "      <td>129-166</td>\n",
              "      <td>2002.0</td>\n",
              "      <td>v. 24 n. 1 (2002)</td>\n",
              "      <td>pt</td>\n",
              "      <td>10.1590/S0102-85292002000100002</td>\n",
              "      <td>Contexto Internacional</td>\n",
              "      <td>1982-0240</td>\n",
              "      <td>http://www.scielo.br/j/cint/a/z8kxTngCqVMZD65G...</td>\n",
              "      <td>https://www.scielo.br/j/cint/a/z8kxTngCqVMZD65...</td>\n",
              "      <td>/media/hdvm09/bd/007/002/002/003/contexto_inte...</td>\n",
              "      <td>154457</td>\n",
              "    </tr>\n",
              "    <tr>\n",
              "      <th>2</th>\n",
              "      <td>Maria Guadalupe Moog Rodrigues</td>\n",
              "      <td>NaN</td>\n",
              "      <td>Redes transnacionais de advocacia pública: est...</td>\n",
              "      <td>O projeto Planafloro, financiado pelo Banco Mu...</td>\n",
              "      <td>Inspection Panel; World Bank; Transnational Ne...</td>\n",
              "      <td>BROWDER, John. (1998), Report - World Bank Mid...</td>\n",
              "      <td>NaN</td>\n",
              "      <td>2002.0</td>\n",
              "      <td>v. 24 n. 1 (2002)</td>\n",
              "      <td>pt</td>\n",
              "      <td>10.1590/S0102-85292002000100003</td>\n",
              "      <td>Contexto Internacional</td>\n",
              "      <td>1982-0240</td>\n",
              "      <td>http://www.scielo.br/j/cint/a/46s45RBfLWLqwZx9...</td>\n",
              "      <td>https://www.scielo.br/j/cint/a/46s45RBfLWLqwZx...</td>\n",
              "      <td>/media/hdvm09/bd/007/002/002/003/contexto_inte...</td>\n",
              "      <td>206246</td>\n",
              "    </tr>\n",
              "    <tr>\n",
              "      <th>3</th>\n",
              "      <td>Mark Everingham</td>\n",
              "      <td>NaN</td>\n",
              "      <td>Direitos de propriedade e cidadania em socieda...</td>\n",
              "      <td>Este estudo mostra como as disputas de terra d...</td>\n",
              "      <td>Property Rights; Conflict Resolution; Citizens...</td>\n",
              "      <td>ADAMS, Martin, SIBANDA, Sipho e THOMAS, Glen. ...</td>\n",
              "      <td>NaN</td>\n",
              "      <td>2002.0</td>\n",
              "      <td>v. 24 n. 1 (2002)</td>\n",
              "      <td>pt</td>\n",
              "      <td>10.1590/S0102-85292002000100004</td>\n",
              "      <td>Contexto Internacional</td>\n",
              "      <td>1982-0240</td>\n",
              "      <td>http://www.scielo.br/j/cint/a/7pRZMvTywYzZXDfJ...</td>\n",
              "      <td>https://www.scielo.br/j/cint/a/7pRZMvTywYzZXDf...</td>\n",
              "      <td>/media/hdvm09/bd/007/002/002/003/contexto_inte...</td>\n",
              "      <td>147182</td>\n",
              "    </tr>\n",
              "    <tr>\n",
              "      <th>4</th>\n",
              "      <td>Mônica Herz</td>\n",
              "      <td>NaN</td>\n",
              "      <td>O Crescimento da área de relações internaciona...</td>\n",
              "      <td>O artigo analisa a produção acadêmica brasilei...</td>\n",
              "      <td>International Relations Theory; International ...</td>\n",
              "      <td>ABREU, Marcelo de Paiva. (1984), \"O Brasil e a...</td>\n",
              "      <td>NaN</td>\n",
              "      <td>2002.0</td>\n",
              "      <td>v. 24 n. 1 (2002)</td>\n",
              "      <td>pt</td>\n",
              "      <td>10.1590/S0102-85292002000100005</td>\n",
              "      <td>Contexto Internacional</td>\n",
              "      <td>1982-0240</td>\n",
              "      <td>http://www.scielo.br/j/cint/a/dTq3jbQQtT7DgRDj...</td>\n",
              "      <td>https://www.scielo.br/j/cint/a/dTq3jbQQtT7DgRD...</td>\n",
              "      <td>/media/hdvm09/bd/007/002/002/003/contexto_inte...</td>\n",
              "      <td>157795</td>\n",
              "    </tr>\n",
              "    <tr>\n",
              "      <th>...</th>\n",
              "      <td>...</td>\n",
              "      <td>...</td>\n",
              "      <td>...</td>\n",
              "      <td>...</td>\n",
              "      <td>...</td>\n",
              "      <td>...</td>\n",
              "      <td>...</td>\n",
              "      <td>...</td>\n",
              "      <td>...</td>\n",
              "      <td>...</td>\n",
              "      <td>...</td>\n",
              "      <td>...</td>\n",
              "      <td>...</td>\n",
              "      <td>...</td>\n",
              "      <td>...</td>\n",
              "      <td>...</td>\n",
              "      <td>...</td>\n",
              "    </tr>\n",
              "    <tr>\n",
              "      <th>419</th>\n",
              "      <td>Leandro Wolpert dos Santos;André Pimentel Ferr...</td>\n",
              "      <td>Institute of Social and Political Studies of t...</td>\n",
              "      <td>Explaining the Changes in Brazilian Foreign Po...</td>\n",
              "      <td>AbstractThe administration of President Michel...</td>\n",
              "      <td>foreign policy change; Brazilian foreign polic...</td>\n",
              "      <td>Almeida, P R de. 2003. ‘A Política Internacion...</td>\n",
              "      <td>489-513</td>\n",
              "      <td>2021.0</td>\n",
              "      <td>v. 43 n. 3 (2021)</td>\n",
              "      <td>en</td>\n",
              "      <td>10.1590/S0102-8529.2019430300003</td>\n",
              "      <td>Contexto Internacional</td>\n",
              "      <td>1982-0240</td>\n",
              "      <td>http://www.scielo.br/j/cint/a/7gnzcsdC6C3mcsm3...</td>\n",
              "      <td>https://www.scielo.br/j/cint/a/7gnzcsdC6C3mcsm...</td>\n",
              "      <td>/media/hdvm09/bd/007/002/002/003/contexto_inte...</td>\n",
              "      <td>1702907</td>\n",
              "    </tr>\n",
              "    <tr>\n",
              "      <th>420</th>\n",
              "      <td>Cairo Gabriel Borges Junqueira</td>\n",
              "      <td>Federal University of Sergipe (UFS)</td>\n",
              "      <td>From Municipalist Activism to Institutional Ch...</td>\n",
              "      <td>AbstractMercosur has gone through distinct pha...</td>\n",
              "      <td>Mercosur; Mercocities; FCCR; subnational gover...</td>\n",
              "      <td>Aalberts, T. 2005. ‘Sovereignty Reloaded? A Co...</td>\n",
              "      <td>515-540</td>\n",
              "      <td>2021.0</td>\n",
              "      <td>v. 43 n. 3 (2021)</td>\n",
              "      <td>en</td>\n",
              "      <td>10.1590/S0102-8529.2019430300004</td>\n",
              "      <td>Contexto Internacional</td>\n",
              "      <td>1982-0240</td>\n",
              "      <td>http://www.scielo.br/j/cint/a/vqh4SkKwm4DknmfQ...</td>\n",
              "      <td>https://www.scielo.br/j/cint/a/vqh4SkKwm4Dknmf...</td>\n",
              "      <td>/media/hdvm09/bd/007/002/002/003/contexto_inte...</td>\n",
              "      <td>2147350</td>\n",
              "    </tr>\n",
              "    <tr>\n",
              "      <th>421</th>\n",
              "      <td>Virginia Soledad Busilli;María Belén Jaime</td>\n",
              "      <td>Scientific and Technological Center of the Nat...</td>\n",
              "      <td>Chinese Investments in Brazil: Economic Diplom...</td>\n",
              "      <td>AbstractThe People’s Republic of China has con...</td>\n",
              "      <td>Latin America, China, economic diplomacy, FDI,...</td>\n",
              "      <td>Abeliansky, A. L and I Martínez-Zarzoso. 2019....</td>\n",
              "      <td>541-564</td>\n",
              "      <td>2021.0</td>\n",
              "      <td>v. 43 n. 3 (2021)</td>\n",
              "      <td>en</td>\n",
              "      <td>10.1590/S0102-8529.2019430300005</td>\n",
              "      <td>Contexto Internacional</td>\n",
              "      <td>1982-0240</td>\n",
              "      <td>http://www.scielo.br/j/cint/a/czWnkqcLF8RfYDjR...</td>\n",
              "      <td>https://www.scielo.br/j/cint/a/czWnkqcLF8RfYDj...</td>\n",
              "      <td>/media/hdvm09/bd/007/002/002/003/contexto_inte...</td>\n",
              "      <td>1823392</td>\n",
              "    </tr>\n",
              "    <tr>\n",
              "      <th>422</th>\n",
              "      <td>Bruno Hendler;André Luiz Cançado Motta</td>\n",
              "      <td>Federal University of Santa Maria (UFSM);Feder...</td>\n",
              "      <td>Military Build-up in Southeast Asia and the So...</td>\n",
              "      <td>AbstractAbstract: The South China Sea (SCS) is...</td>\n",
              "      <td>South China Sea; Southeast Asia; China; milita...</td>\n",
              "      <td>Astro Awani [online]. 2013. ‘PM Announces Sett...</td>\n",
              "      <td>565-591</td>\n",
              "      <td>2021.0</td>\n",
              "      <td>v. 43 n. 3 (2021)</td>\n",
              "      <td>en</td>\n",
              "      <td>10.1590/S0102-8529.2019430300006</td>\n",
              "      <td>Contexto Internacional</td>\n",
              "      <td>1982-0240</td>\n",
              "      <td>http://www.scielo.br/j/cint/a/jp66xVMw6bFGVJQH...</td>\n",
              "      <td>https://www.scielo.br/j/cint/a/jp66xVMw6bFGVJQ...</td>\n",
              "      <td>/media/hdvm09/bd/007/002/002/003/contexto_inte...</td>\n",
              "      <td>2166459</td>\n",
              "    </tr>\n",
              "    <tr>\n",
              "      <th>423</th>\n",
              "      <td>João Fernando Finazzi</td>\n",
              "      <td>San Tiago Dantas Interinstitutional Graduate P...</td>\n",
              "      <td>Badges Without Borders: How Global Counterinsu...</td>\n",
              "      <td>NaN</td>\n",
              "      <td>NaN</td>\n",
              "      <td>Latham, M. 2011. The Right Kind of Revolution:...</td>\n",
              "      <td>593-596</td>\n",
              "      <td>2021.0</td>\n",
              "      <td>v. 43 n. 3 (2021)</td>\n",
              "      <td>en</td>\n",
              "      <td>10.1590/S0102-8529.2019430300007</td>\n",
              "      <td>Contexto Internacional</td>\n",
              "      <td>1982-0240</td>\n",
              "      <td>http://www.scielo.br/j/cint/a/zJtYy5mtQsMwTNpQ...</td>\n",
              "      <td>https://www.scielo.br/j/cint/a/zJtYy5mtQsMwTNp...</td>\n",
              "      <td>/media/hdvm09/bd/007/002/002/003/contexto_inte...</td>\n",
              "      <td>733593</td>\n",
              "    </tr>\n",
              "  </tbody>\n",
              "</table>\n",
              "<p>424 rows × 17 columns</p>\n",
              "</div>\n",
              "      <button class=\"colab-df-convert\" onclick=\"convertToInteractive('df-775fc19a-ff4b-4520-b3be-48485fd15c1c')\"\n",
              "              title=\"Convert this dataframe to an interactive table.\"\n",
              "              style=\"display:none;\">\n",
              "        \n",
              "  <svg xmlns=\"http://www.w3.org/2000/svg\" height=\"24px\"viewBox=\"0 0 24 24\"\n",
              "       width=\"24px\">\n",
              "    <path d=\"M0 0h24v24H0V0z\" fill=\"none\"/>\n",
              "    <path d=\"M18.56 5.44l.94 2.06.94-2.06 2.06-.94-2.06-.94-.94-2.06-.94 2.06-2.06.94zm-11 1L8.5 8.5l.94-2.06 2.06-.94-2.06-.94L8.5 2.5l-.94 2.06-2.06.94zm10 10l.94 2.06.94-2.06 2.06-.94-2.06-.94-.94-2.06-.94 2.06-2.06.94z\"/><path d=\"M17.41 7.96l-1.37-1.37c-.4-.4-.92-.59-1.43-.59-.52 0-1.04.2-1.43.59L10.3 9.45l-7.72 7.72c-.78.78-.78 2.05 0 2.83L4 21.41c.39.39.9.59 1.41.59.51 0 1.02-.2 1.41-.59l7.78-7.78 2.81-2.81c.8-.78.8-2.07 0-2.86zM5.41 20L4 18.59l7.72-7.72 1.47 1.35L5.41 20z\"/>\n",
              "  </svg>\n",
              "      </button>\n",
              "      \n",
              "  <style>\n",
              "    .colab-df-container {\n",
              "      display:flex;\n",
              "      flex-wrap:wrap;\n",
              "      gap: 12px;\n",
              "    }\n",
              "\n",
              "    .colab-df-convert {\n",
              "      background-color: #E8F0FE;\n",
              "      border: none;\n",
              "      border-radius: 50%;\n",
              "      cursor: pointer;\n",
              "      display: none;\n",
              "      fill: #1967D2;\n",
              "      height: 32px;\n",
              "      padding: 0 0 0 0;\n",
              "      width: 32px;\n",
              "    }\n",
              "\n",
              "    .colab-df-convert:hover {\n",
              "      background-color: #E2EBFA;\n",
              "      box-shadow: 0px 1px 2px rgba(60, 64, 67, 0.3), 0px 1px 3px 1px rgba(60, 64, 67, 0.15);\n",
              "      fill: #174EA6;\n",
              "    }\n",
              "\n",
              "    [theme=dark] .colab-df-convert {\n",
              "      background-color: #3B4455;\n",
              "      fill: #D2E3FC;\n",
              "    }\n",
              "\n",
              "    [theme=dark] .colab-df-convert:hover {\n",
              "      background-color: #434B5C;\n",
              "      box-shadow: 0px 1px 3px 1px rgba(0, 0, 0, 0.15);\n",
              "      filter: drop-shadow(0px 1px 2px rgba(0, 0, 0, 0.3));\n",
              "      fill: #FFFFFF;\n",
              "    }\n",
              "  </style>\n",
              "\n",
              "      <script>\n",
              "        const buttonEl =\n",
              "          document.querySelector('#df-775fc19a-ff4b-4520-b3be-48485fd15c1c button.colab-df-convert');\n",
              "        buttonEl.style.display =\n",
              "          google.colab.kernel.accessAllowed ? 'block' : 'none';\n",
              "\n",
              "        async function convertToInteractive(key) {\n",
              "          const element = document.querySelector('#df-775fc19a-ff4b-4520-b3be-48485fd15c1c');\n",
              "          const dataTable =\n",
              "            await google.colab.kernel.invokeFunction('convertToInteractive',\n",
              "                                                     [key], {});\n",
              "          if (!dataTable) return;\n",
              "\n",
              "          const docLinkHtml = 'Like what you see? Visit the ' +\n",
              "            '<a target=\"_blank\" href=https://colab.research.google.com/notebooks/data_table.ipynb>data table notebook</a>'\n",
              "            + ' to learn more about interactive tables.';\n",
              "          element.innerHTML = '';\n",
              "          dataTable['output_type'] = 'display_data';\n",
              "          await google.colab.output.renderOutput(dataTable, element);\n",
              "          const docLink = document.createElement('div');\n",
              "          docLink.innerHTML = docLinkHtml;\n",
              "          element.appendChild(docLink);\n",
              "        }\n",
              "      </script>\n",
              "    </div>\n",
              "  </div>\n",
              "  "
            ]
          },
          "metadata": {},
          "execution_count": 46
        }
      ]
    },
    {
      "cell_type": "code",
      "source": [
        "contexto.shape"
      ],
      "metadata": {
        "colab": {
          "base_uri": "https://localhost:8080/"
        },
        "id": "c8437wvrz-3Q",
        "outputId": "6f10e365-ddf3-4a93-df75-58fb6e26f542"
      },
      "execution_count": 49,
      "outputs": [
        {
          "output_type": "execute_result",
          "data": {
            "text/plain": [
              "(424, 17)"
            ]
          },
          "metadata": {},
          "execution_count": 49
        }
      ]
    },
    {
      "cell_type": "markdown",
      "source": [
        "# Busca\n",
        "\n",
        "- `in` >> busca na lista de rótulos de linhas e columas\n",
        "- `isin` >> busca valores armazenados em determinada columa\n",
        "- tanto o `in` quanto o `isin` vai retornar um true ou false"
      ],
      "metadata": {
        "id": "0wEvlPef4f82"
      }
    },
    {
      "cell_type": "code",
      "source": [
        "busca = \"AU\" in contexto\n",
        "busca"
      ],
      "metadata": {
        "colab": {
          "base_uri": "https://localhost:8080/"
        },
        "id": "_jJIXnq_3JAe",
        "outputId": "42f5f0d3-c47c-4b3c-8bda-1fbf1472e9c9"
      },
      "execution_count": 55,
      "outputs": [
        {
          "output_type": "execute_result",
          "data": {
            "text/plain": [
              "True"
            ]
          },
          "metadata": {},
          "execution_count": 55
        }
      ]
    },
    {
      "cell_type": "code",
      "source": [
        "busca2 = contexto[\"AU\"].isin([\"João Fernando Finazzi\"])\n",
        "busca2"
      ],
      "metadata": {
        "colab": {
          "base_uri": "https://localhost:8080/"
        },
        "id": "XqcY3iW94AZD",
        "outputId": "1b3e2555-8f6d-4461-cf3e-bb738352e4be"
      },
      "execution_count": 54,
      "outputs": [
        {
          "output_type": "execute_result",
          "data": {
            "text/plain": [
              "0      False\n",
              "1      False\n",
              "2      False\n",
              "3      False\n",
              "4      False\n",
              "       ...  \n",
              "419    False\n",
              "420    False\n",
              "421    False\n",
              "422    False\n",
              "423     True\n",
              "Name: AU, Length: 424, dtype: bool"
            ]
          },
          "metadata": {},
          "execution_count": 54
        }
      ]
    },
    {
      "cell_type": "markdown",
      "source": [
        "# Conhecendo os dados\n",
        "- count, sum, mean (média), mode (moda), value_counts (frequência), sort_values (ordenar), unique (mostrar as entradas únicas)"
      ],
      "metadata": {
        "id": "79ZqITIq648C"
      }
    },
    {
      "cell_type": "code",
      "source": [
        "contexto[\"PY\"].mode()"
      ],
      "metadata": {
        "colab": {
          "base_uri": "https://localhost:8080/"
        },
        "id": "FNkER4e763kt",
        "outputId": "93e1520f-9313-45f9-a4d1-adcecd745d11"
      },
      "execution_count": 61,
      "outputs": [
        {
          "output_type": "execute_result",
          "data": {
            "text/plain": [
              "array([2015., 2016.])"
            ]
          },
          "metadata": {},
          "execution_count": 61
        }
      ]
    },
    {
      "cell_type": "code",
      "source": [
        "frequencia= contexto[\"AU\"].value_counts()\n",
        "frequencia"
      ],
      "metadata": {
        "colab": {
          "base_uri": "https://localhost:8080/"
        },
        "id": "nAi0IOjq8YAL",
        "outputId": "66ddc095-d363-45cc-ecc8-c49fb9d3b400"
      },
      "execution_count": 63,
      "outputs": [
        {
          "output_type": "execute_result",
          "data": {
            "text/plain": [
              "Natália Maria Félix de Souza              3\n",
              "Fábio Albergaria de Queiroz               3\n",
              "Sonia de Camargo                          3\n",
              "Eugenio Diniz                             2\n",
              "Feliciano de Sá Guimarães                 2\n",
              "                                         ..\n",
              "Sandra Colombo;J. Ignacio Frechero        1\n",
              "Victor Coutinho Lage                      1\n",
              "Leonardo Ramos                            1\n",
              "Guilherme Stolle Paixão e Casarões        1\n",
              "Bruno Hendler;André Luiz Cançado Motta    1\n",
              "Name: AU, Length: 394, dtype: int64"
            ]
          },
          "metadata": {},
          "execution_count": 63
        }
      ]
    },
    {
      "cell_type": "code",
      "source": [
        "frequencia= contexto[\"PY\"].value_counts()\n",
        "frequencia"
      ],
      "metadata": {
        "colab": {
          "base_uri": "https://localhost:8080/"
        },
        "id": "h5cncdmV9xVg",
        "outputId": "e13459a8-d0f0-4fbd-e420-2e7d90a20780"
      },
      "execution_count": 65,
      "outputs": [
        {
          "output_type": "execute_result",
          "data": {
            "text/plain": [
              "2016.0    35\n",
              "2015.0    35\n",
              "2019.0    34\n",
              "2017.0    34\n",
              "2018.0    31\n",
              "2021.0    26\n",
              "2020.0    26\n",
              "2014.0    21\n",
              "2011.0    20\n",
              "2008.0    19\n",
              "2010.0    19\n",
              "2013.0    19\n",
              "2012.0    18\n",
              "2009.0    17\n",
              "2005.0    14\n",
              "2006.0    13\n",
              "2004.0    12\n",
              "2007.0    11\n",
              "2003.0    10\n",
              "2002.0    10\n",
              "Name: PY, dtype: int64"
            ]
          },
          "metadata": {},
          "execution_count": 65
        }
      ]
    },
    {
      "cell_type": "code",
      "source": [
        "barras= frequencia.plot(kind=\"bar\")"
      ],
      "metadata": {
        "colab": {
          "base_uri": "https://localhost:8080/",
          "height": 290
        },
        "id": "obYGOHwG-GSt",
        "outputId": "815c8f8d-062a-40b7-b189-7903a6c95369"
      },
      "execution_count": 66,
      "outputs": [
        {
          "output_type": "display_data",
          "data": {
            "text/plain": [
              "<Figure size 432x288 with 1 Axes>"
            ],
            "image/png": "[encoded data removed]"
          },
          "metadata": {
            "needs_background": "light"
          }
        }
      ]
    },
    {
      "cell_type": "code",
      "source": [
        "anos= contexto.sort_values(by=\"AU\", ascending=False)\n",
        "anos"
      ],
      "metadata": {
        "colab": {
          "base_uri": "https://localhost:8080/",
          "height": 1000
        },
        "id": "Q-LT37q8_-O_",
        "outputId": "6a94b529-cdd6-4444-9493-947b77bfc000"
      },
      "execution_count": 77,
      "outputs": [
        {
          "output_type": "execute_result",
          "data": {
            "text/plain": [
              "                                                    AU  \\\n",
              "270                               Ángela Iranzo Dosdad   \n",
              "305                                Zeynep Gülşah Çapan   \n",
              "363     Yi Shin Tang;Bruno Youssef Yunen Alves de Lima   \n",
              "256                            Walter Antonio Desiderá   \n",
              "355                               Vânia Carvalho Pinto   \n",
              "..                                                 ...   \n",
              "52                         Aletheia de Almeida Machado   \n",
              "309  Alcides Eduardo dos Reis Peron;Rafael de Brito...   \n",
              "404                 Alana Camoça Gonçalves de Oliveira   \n",
              "369  Aggie Hirst;Tom Houseman;Paulo Cesar Duque-Est...   \n",
              "55                           Ademar Seabra da Cruz Jr.   \n",
              "\n",
              "                                                    OG  \\\n",
              "270                           Universidad de los Andes   \n",
              "305                         UIstanbul Bilgi University   \n",
              "363  University of São Paulo (USP);University of Sã...   \n",
              "256           Instituto de Pesquisa Econômica Aplicada   \n",
              "355                       University of Brasília (UnB)   \n",
              "..                                                 ...   \n",
              "52                               Fundação Oswaldo Cruz   \n",
              "309  Universidade Estadual de Campinas;Universidade...   \n",
              "404        Federal University of Rio de Janeiro (UFRJ)   \n",
              "369  King’s College London;Leeds Beckett University...   \n",
              "55           Universidade Federal do Rio Grande do Sul   \n",
              "\n",
              "                                                    TI  \\\n",
              "270  From the Secular to the Habermasian Post-Secul...   \n",
              "305  Enacting the International/Reproducing Eurocen...   \n",
              "363  Private Standards in the WTO: A Multiple Strea...   \n",
              "256  The Evolution of Mercosur Behaving as an Inter...   \n",
              "355      Signalling for Status: UAE and Women’s Rights   \n",
              "..                                                 ...   \n",
              "52   O local e o global na estrutura da política am...   \n",
              "309  ‘No Boots on the Ground’: Reflections on the U...   \n",
              "404  From Panda to Dragon: An Analysis of China’s M...   \n",
              "369  Disobeying Marx, Disobeying Derrida—Hopes & Ri...   \n",
              "55   Um novo bipolarismo: notas metodológicas para ...   \n",
              "\n",
              "                                                    AB  \\\n",
              "270  AbstractTime has been the forgotten dimension ...   \n",
              "305  AbstractThis article focuses on the way in whi...   \n",
              "363  AbstractThe international trade system has bee...   \n",
              "256  Abstract As is well known, Mercosur was concei...   \n",
              "355  AbstractThat societies should be gender-equal ...   \n",
              "..                                                 ...   \n",
              "52   Neste artigo, adota-se a abordagem construtivi...   \n",
              "309  AbstractSince 2004, the US Air Force (USAF) an...   \n",
              "404  AbstractIn the 21st century, China’s rise has ...   \n",
              "369  AbstractJacques Derrida delivered the basis of...   \n",
              "55   O artigo parte de uma discussão metodológica p...   \n",
              "\n",
              "                                                    DE  \\\n",
              "270  Post-secular; Post-colonial; Time; Religion; P...   \n",
              "305  Eurocentrism; International; Turkey; Narrative...   \n",
              "363  private standards; international trade; WTO; m...   \n",
              "256  South American Integration; International Coal...   \n",
              "355  United Arab Emirates; status-seeking strategie...   \n",
              "..                                                 ...   \n",
              "52   International Relations; International Environ...   \n",
              "309  Drones; Media; Virtuous War; Post-Structuralis...   \n",
              "404  China; East China Sea; Neoclassical Realism; t...   \n",
              "369  Derrida, Jacques; Marx, Karl; hope; futurity; ...   \n",
              "55   International System; Bipolarism; United State...   \n",
              "\n",
              "                                                    CR    BP_EP      PY  \\\n",
              "270  Asad, Talal. 2001. ‘Reading a Modern Classic: ...  887-908  2016.0   \n",
              "305  Abrahamian, Ervand. 2013. The Coup: 1953, the ...  655-672  2017.0   \n",
              "363  Ackrill, Robert and Adrian Kay. 2011. ‘Multipl...  501-527  2019.0   \n",
              "256  Acharya, Amitav. 2009. Constructing a security...  593-620  2016.0   \n",
              "355  Abu-Lughod, Lila. 2009. ‘Dialects of Women’s E...  345-363  2019.0   \n",
              "..                                                 ...      ...     ...   \n",
              "52   ABRAHAM, C. M. e ABRAHAM, S. (1991), \"The Bhop...      NaN  2006.0   \n",
              "309  Ackerman, Spencer. 2014. ‘41 men targeted but ...    53-71  2018.0   \n",
              "404  Abe, S. 2013. ‘Japan Is Back: A Conversation w...  147-171  2021.0   \n",
              "369  Adorno, T W and M Horkheimer. 2011. Towards a ...  643-662  2019.0   \n",
              "55   ANHEIER, H., GLASIUS, M. e KALDOR, M. (eds.). ...      NaN  2006.0   \n",
              "\n",
              "                     IS  LA                                DI  \\\n",
              "270  v. 38 n. 03 (2016)  en  10.1590/S0102-8529.2016380300008   \n",
              "305  v. 39 n. 03 (2017)  en  10.1590/S0102-8529.2017390300010   \n",
              "363  v. 41 n. 03 (2019)  en  10.1590/S0102-8529.2019410300002   \n",
              "256  v. 38 n. 02 (2016)  en  10.1590/S0102-8529.2016380200004   \n",
              "355  v. 41 n. 02 (2019)  en  10.1590/S0102-8529.2019410200006   \n",
              "..                  ...  ..                               ...   \n",
              "52    v. 28 n. 1 (2006)  pt   10.1590/S0102-85292006000100007   \n",
              "309  v. 40 n. 01 (2018)  en  10.1590/S0102-8529.2017400100003   \n",
              "404   v. 43 n. 1 (2021)  en  10.1590/S0102-8529.2019430100007   \n",
              "369  v. 41 n. 03 (2019)  en  10.1590/S0102-8529.2019410300008   \n",
              "55    v. 28 n. 2 (2006)  pt   10.1590/S0102-85292006000200003   \n",
              "\n",
              "                         SO         SN  \\\n",
              "270  Contexto Internacional  1982-0240   \n",
              "305  Contexto Internacional  1982-0240   \n",
              "363  Contexto Internacional  1982-0240   \n",
              "256  Contexto Internacional  1982-0240   \n",
              "355  Contexto Internacional  1982-0240   \n",
              "..                      ...        ...   \n",
              "52   Contexto Internacional  1982-0240   \n",
              "309  Contexto Internacional  1982-0240   \n",
              "404  Contexto Internacional  1982-0240   \n",
              "369  Contexto Internacional  1982-0240   \n",
              "55   Contexto Internacional  1982-0240   \n",
              "\n",
              "                                                   URL  \\\n",
              "270  http://www.scielo.br/j/cint/a/gkLxq9ssLKnpWcJP...   \n",
              "305  http://www.scielo.br/j/cint/a/jhDh7rDs5p8wZM8g...   \n",
              "363  http://www.scielo.br/j/cint/a/QGbjpx855LSZ5B88...   \n",
              "256  http://www.scielo.br/j/cint/a/HD83J6fVYZtQ5FLF...   \n",
              "355  http://www.scielo.br/j/cint/a/DCg3nR7Yr9d8LF4q...   \n",
              "..                                                 ...   \n",
              "52   http://www.scielo.br/j/cint/a/xs7HFnftzLf8QfMw...   \n",
              "309  http://www.scielo.br/j/cint/a/GNZskbRwBWdmxdjQ...   \n",
              "404  http://www.scielo.br/j/cint/a/mD9wg3cGh66wHt8z...   \n",
              "369  http://www.scielo.br/j/cint/a/5dyHZqL54QvVNmh7...   \n",
              "55   http://www.scielo.br/j/cint/a/FbFtBW5KZGfRzSdQ...   \n",
              "\n",
              "                                                PDFURL  \\\n",
              "270  https://www.scielo.br/j/cint/a/gkLxq9ssLKnpWcJ...   \n",
              "305  https://www.scielo.br/j/cint/a/jhDh7rDs5p8wZM8...   \n",
              "363  https://www.scielo.br/j/cint/a/QGbjpx855LSZ5B8...   \n",
              "256  https://www.scielo.br/j/cint/a/HD83J6fVYZtQ5FL...   \n",
              "355  https://www.scielo.br/j/cint/a/DCg3nR7Yr9d8LF4...   \n",
              "..                                                 ...   \n",
              "52   https://www.scielo.br/j/cint/a/xs7HFnftzLf8QfM...   \n",
              "309  https://www.scielo.br/j/cint/a/GNZskbRwBWdmxdj...   \n",
              "404  https://www.scielo.br/j/cint/a/mD9wg3cGh66wHt8...   \n",
              "369  https://www.scielo.br/j/cint/a/5dyHZqL54QvVNmh...   \n",
              "55   https://www.scielo.br/j/cint/a/FbFtBW5KZGfRzSd...   \n",
              "\n",
              "                                           loc_arquivo     size  \n",
              "270  /media/hdvm09/bd/007/002/002/003/contexto_inte...  1357831  \n",
              "305  /media/hdvm09/bd/007/002/002/003/contexto_inte...  1529887  \n",
              "363  /media/hdvm09/bd/007/002/002/003/contexto_inte...  1706692  \n",
              "256  /media/hdvm09/bd/007/002/002/003/contexto_inte...  1894467  \n",
              "355  /media/hdvm09/bd/007/002/002/003/contexto_inte...   929944  \n",
              "..                                                 ...      ...  \n",
              "52   /media/hdvm09/bd/007/002/002/003/contexto_inte...   426542  \n",
              "309  /media/hdvm09/bd/007/002/002/003/contexto_inte...  1277264  \n",
              "404  /media/hdvm09/bd/007/002/002/003/contexto_inte...  2306942  \n",
              "369  /media/hdvm09/bd/007/002/002/003/contexto_inte...  1900857  \n",
              "55   /media/hdvm09/bd/007/002/002/003/contexto_inte...   238352  \n",
              "\n",
              "[424 rows x 17 columns]"
            ],
            "text/html": [
              "\n",
              "  <div id=\"df-0488d837-c48d-41af-a68f-e72d1cc4ab8a\">\n",
              "    <div class=\"colab-df-container\">\n",
              "      <div>\n",
              "<style scoped>\n",
              "    .dataframe tbody tr th:only-of-type {\n",
              "        vertical-align: middle;\n",
              "    }\n",
              "\n",
              "    .dataframe tbody tr th {\n",
              "        vertical-align: top;\n",
              "    }\n",
              "\n",
              "    .dataframe thead th {\n",
              "        text-align: right;\n",
              "    }\n",
              "</style>\n",
              "<table border=\"1\" class=\"dataframe\">\n",
              "  <thead>\n",
              "    <tr style=\"text-align: right;\">\n",
              "      <th></th>\n",
              "      <th>AU</th>\n",
              "      <th>OG</th>\n",
              "      <th>TI</th>\n",
              "      <th>AB</th>\n",
              "      <th>DE</th>\n",
              "      <th>CR</th>\n",
              "      <th>BP_EP</th>\n",
              "      <th>PY</th>\n",
              "      <th>IS</th>\n",
              "      <th>LA</th>\n",
              "      <th>DI</th>\n",
              "      <th>SO</th>\n",
              "      <th>SN</th>\n",
              "      <th>URL</th>\n",
              "      <th>PDFURL</th>\n",
              "      <th>loc_arquivo</th>\n",
              "      <th>size</th>\n",
              "    </tr>\n",
              "  </thead>\n",
              "  <tbody>\n",
              "    <tr>\n",
              "      <th>270</th>\n",
              "      <td>Ángela Iranzo Dosdad</td>\n",
              "      <td>Universidad de los Andes</td>\n",
              "      <td>From the Secular to the Habermasian Post-Secul...</td>\n",
              "      <td>AbstractTime has been the forgotten dimension ...</td>\n",
              "      <td>Post-secular; Post-colonial; Time; Religion; P...</td>\n",
              "      <td>Asad, Talal. 2001. ‘Reading a Modern Classic: ...</td>\n",
              "      <td>887-908</td>\n",
              "      <td>2016.0</td>\n",
              "      <td>v. 38 n. 03 (2016)</td>\n",
              "      <td>en</td>\n",
              "      <td>10.1590/S0102-8529.2016380300008</td>\n",
              "      <td>Contexto Internacional</td>\n",
              "      <td>1982-0240</td>\n",
              "      <td>http://www.scielo.br/j/cint/a/gkLxq9ssLKnpWcJP...</td>\n",
              "      <td>https://www.scielo.br/j/cint/a/gkLxq9ssLKnpWcJ...</td>\n",
              "      <td>/media/hdvm09/bd/007/002/002/003/contexto_inte...</td>\n",
              "      <td>1357831</td>\n",
              "    </tr>\n",
              "    <tr>\n",
              "      <th>305</th>\n",
              "      <td>Zeynep Gülşah Çapan</td>\n",
              "      <td>UIstanbul Bilgi University</td>\n",
              "      <td>Enacting the International/Reproducing Eurocen...</td>\n",
              "      <td>AbstractThis article focuses on the way in whi...</td>\n",
              "      <td>Eurocentrism; International; Turkey; Narrative...</td>\n",
              "      <td>Abrahamian, Ervand. 2013. The Coup: 1953, the ...</td>\n",
              "      <td>655-672</td>\n",
              "      <td>2017.0</td>\n",
              "      <td>v. 39 n. 03 (2017)</td>\n",
              "      <td>en</td>\n",
              "      <td>10.1590/S0102-8529.2017390300010</td>\n",
              "      <td>Contexto Internacional</td>\n",
              "      <td>1982-0240</td>\n",
              "      <td>http://www.scielo.br/j/cint/a/jhDh7rDs5p8wZM8g...</td>\n",
              "      <td>https://www.scielo.br/j/cint/a/jhDh7rDs5p8wZM8...</td>\n",
              "      <td>/media/hdvm09/bd/007/002/002/003/contexto_inte...</td>\n",
              "      <td>1529887</td>\n",
              "    </tr>\n",
              "    <tr>\n",
              "      <th>363</th>\n",
              "      <td>Yi Shin Tang;Bruno Youssef Yunen Alves de Lima</td>\n",
              "      <td>University of São Paulo (USP);University of Sã...</td>\n",
              "      <td>Private Standards in the WTO: A Multiple Strea...</td>\n",
              "      <td>AbstractThe international trade system has bee...</td>\n",
              "      <td>private standards; international trade; WTO; m...</td>\n",
              "      <td>Ackrill, Robert and Adrian Kay. 2011. ‘Multipl...</td>\n",
              "      <td>501-527</td>\n",
              "      <td>2019.0</td>\n",
              "      <td>v. 41 n. 03 (2019)</td>\n",
              "      <td>en</td>\n",
              "      <td>10.1590/S0102-8529.2019410300002</td>\n",
              "      <td>Contexto Internacional</td>\n",
              "      <td>1982-0240</td>\n",
              "      <td>http://www.scielo.br/j/cint/a/QGbjpx855LSZ5B88...</td>\n",
              "      <td>https://www.scielo.br/j/cint/a/QGbjpx855LSZ5B8...</td>\n",
              "      <td>/media/hdvm09/bd/007/002/002/003/contexto_inte...</td>\n",
              "      <td>1706692</td>\n",
              "    </tr>\n",
              "    <tr>\n",
              "      <th>256</th>\n",
              "      <td>Walter Antonio Desiderá</td>\n",
              "      <td>Instituto de Pesquisa Econômica Aplicada</td>\n",
              "      <td>The Evolution of Mercosur Behaving as an Inter...</td>\n",
              "      <td>Abstract As is well known, Mercosur was concei...</td>\n",
              "      <td>South American Integration; International Coal...</td>\n",
              "      <td>Acharya, Amitav. 2009. Constructing a security...</td>\n",
              "      <td>593-620</td>\n",
              "      <td>2016.0</td>\n",
              "      <td>v. 38 n. 02 (2016)</td>\n",
              "      <td>en</td>\n",
              "      <td>10.1590/S0102-8529.2016380200004</td>\n",
              "      <td>Contexto Internacional</td>\n",
              "      <td>1982-0240</td>\n",
              "      <td>http://www.scielo.br/j/cint/a/HD83J6fVYZtQ5FLF...</td>\n",
              "      <td>https://www.scielo.br/j/cint/a/HD83J6fVYZtQ5FL...</td>\n",
              "      <td>/media/hdvm09/bd/007/002/002/003/contexto_inte...</td>\n",
              "      <td>1894467</td>\n",
              "    </tr>\n",
              "    <tr>\n",
              "      <th>355</th>\n",
              "      <td>Vânia Carvalho Pinto</td>\n",
              "      <td>University of Brasília (UnB)</td>\n",
              "      <td>Signalling for Status: UAE and Women’s Rights</td>\n",
              "      <td>AbstractThat societies should be gender-equal ...</td>\n",
              "      <td>United Arab Emirates; status-seeking strategie...</td>\n",
              "      <td>Abu-Lughod, Lila. 2009. ‘Dialects of Women’s E...</td>\n",
              "      <td>345-363</td>\n",
              "      <td>2019.0</td>\n",
              "      <td>v. 41 n. 02 (2019)</td>\n",
              "      <td>en</td>\n",
              "      <td>10.1590/S0102-8529.2019410200006</td>\n",
              "      <td>Contexto Internacional</td>\n",
              "      <td>1982-0240</td>\n",
              "      <td>http://www.scielo.br/j/cint/a/DCg3nR7Yr9d8LF4q...</td>\n",
              "      <td>https://www.scielo.br/j/cint/a/DCg3nR7Yr9d8LF4...</td>\n",
              "      <td>/media/hdvm09/bd/007/002/002/003/contexto_inte...</td>\n",
              "      <td>929944</td>\n",
              "    </tr>\n",
              "    <tr>\n",
              "      <th>...</th>\n",
              "      <td>...</td>\n",
              "      <td>...</td>\n",
              "      <td>...</td>\n",
              "      <td>...</td>\n",
              "      <td>...</td>\n",
              "      <td>...</td>\n",
              "      <td>...</td>\n",
              "      <td>...</td>\n",
              "      <td>...</td>\n",
              "      <td>...</td>\n",
              "      <td>...</td>\n",
              "      <td>...</td>\n",
              "      <td>...</td>\n",
              "      <td>...</td>\n",
              "      <td>...</td>\n",
              "      <td>...</td>\n",
              "      <td>...</td>\n",
              "    </tr>\n",
              "    <tr>\n",
              "      <th>52</th>\n",
              "      <td>Aletheia de Almeida Machado</td>\n",
              "      <td>Fundação Oswaldo Cruz</td>\n",
              "      <td>O local e o global na estrutura da política am...</td>\n",
              "      <td>Neste artigo, adota-se a abordagem construtivi...</td>\n",
              "      <td>International Relations; International Environ...</td>\n",
              "      <td>ABRAHAM, C. M. e ABRAHAM, S. (1991), \"The Bhop...</td>\n",
              "      <td>NaN</td>\n",
              "      <td>2006.0</td>\n",
              "      <td>v. 28 n. 1 (2006)</td>\n",
              "      <td>pt</td>\n",
              "      <td>10.1590/S0102-85292006000100007</td>\n",
              "      <td>Contexto Internacional</td>\n",
              "      <td>1982-0240</td>\n",
              "      <td>http://www.scielo.br/j/cint/a/xs7HFnftzLf8QfMw...</td>\n",
              "      <td>https://www.scielo.br/j/cint/a/xs7HFnftzLf8QfM...</td>\n",
              "      <td>/media/hdvm09/bd/007/002/002/003/contexto_inte...</td>\n",
              "      <td>426542</td>\n",
              "    </tr>\n",
              "    <tr>\n",
              "      <th>309</th>\n",
              "      <td>Alcides Eduardo dos Reis Peron;Rafael de Brito...</td>\n",
              "      <td>Universidade Estadual de Campinas;Universidade...</td>\n",
              "      <td>‘No Boots on the Ground’: Reflections on the U...</td>\n",
              "      <td>AbstractSince 2004, the US Air Force (USAF) an...</td>\n",
              "      <td>Drones; Media; Virtuous War; Post-Structuralis...</td>\n",
              "      <td>Ackerman, Spencer. 2014. ‘41 men targeted but ...</td>\n",
              "      <td>53-71</td>\n",
              "      <td>2018.0</td>\n",
              "      <td>v. 40 n. 01 (2018)</td>\n",
              "      <td>en</td>\n",
              "      <td>10.1590/S0102-8529.2017400100003</td>\n",
              "      <td>Contexto Internacional</td>\n",
              "      <td>1982-0240</td>\n",
              "      <td>http://www.scielo.br/j/cint/a/GNZskbRwBWdmxdjQ...</td>\n",
              "      <td>https://www.scielo.br/j/cint/a/GNZskbRwBWdmxdj...</td>\n",
              "      <td>/media/hdvm09/bd/007/002/002/003/contexto_inte...</td>\n",
              "      <td>1277264</td>\n",
              "    </tr>\n",
              "    <tr>\n",
              "      <th>404</th>\n",
              "      <td>Alana Camoça Gonçalves de Oliveira</td>\n",
              "      <td>Federal University of Rio de Janeiro (UFRJ)</td>\n",
              "      <td>From Panda to Dragon: An Analysis of China’s M...</td>\n",
              "      <td>AbstractIn the 21st century, China’s rise has ...</td>\n",
              "      <td>China; East China Sea; Neoclassical Realism; t...</td>\n",
              "      <td>Abe, S. 2013. ‘Japan Is Back: A Conversation w...</td>\n",
              "      <td>147-171</td>\n",
              "      <td>2021.0</td>\n",
              "      <td>v. 43 n. 1 (2021)</td>\n",
              "      <td>en</td>\n",
              "      <td>10.1590/S0102-8529.2019430100007</td>\n",
              "      <td>Contexto Internacional</td>\n",
              "      <td>1982-0240</td>\n",
              "      <td>http://www.scielo.br/j/cint/a/mD9wg3cGh66wHt8z...</td>\n",
              "      <td>https://www.scielo.br/j/cint/a/mD9wg3cGh66wHt8...</td>\n",
              "      <td>/media/hdvm09/bd/007/002/002/003/contexto_inte...</td>\n",
              "      <td>2306942</td>\n",
              "    </tr>\n",
              "    <tr>\n",
              "      <th>369</th>\n",
              "      <td>Aggie Hirst;Tom Houseman;Paulo Cesar Duque-Est...</td>\n",
              "      <td>King’s College London;Leeds Beckett University...</td>\n",
              "      <td>Disobeying Marx, Disobeying Derrida—Hopes &amp; Ri...</td>\n",
              "      <td>AbstractJacques Derrida delivered the basis of...</td>\n",
              "      <td>Derrida, Jacques; Marx, Karl; hope; futurity; ...</td>\n",
              "      <td>Adorno, T W and M Horkheimer. 2011. Towards a ...</td>\n",
              "      <td>643-662</td>\n",
              "      <td>2019.0</td>\n",
              "      <td>v. 41 n. 03 (2019)</td>\n",
              "      <td>en</td>\n",
              "      <td>10.1590/S0102-8529.2019410300008</td>\n",
              "      <td>Contexto Internacional</td>\n",
              "      <td>1982-0240</td>\n",
              "      <td>http://www.scielo.br/j/cint/a/5dyHZqL54QvVNmh7...</td>\n",
              "      <td>https://www.scielo.br/j/cint/a/5dyHZqL54QvVNmh...</td>\n",
              "      <td>/media/hdvm09/bd/007/002/002/003/contexto_inte...</td>\n",
              "      <td>1900857</td>\n",
              "    </tr>\n",
              "    <tr>\n",
              "      <th>55</th>\n",
              "      <td>Ademar Seabra da Cruz Jr.</td>\n",
              "      <td>Universidade Federal do Rio Grande do Sul</td>\n",
              "      <td>Um novo bipolarismo: notas metodológicas para ...</td>\n",
              "      <td>O artigo parte de uma discussão metodológica p...</td>\n",
              "      <td>International System; Bipolarism; United State...</td>\n",
              "      <td>ANHEIER, H., GLASIUS, M. e KALDOR, M. (eds.). ...</td>\n",
              "      <td>NaN</td>\n",
              "      <td>2006.0</td>\n",
              "      <td>v. 28 n. 2 (2006)</td>\n",
              "      <td>pt</td>\n",
              "      <td>10.1590/S0102-85292006000200003</td>\n",
              "      <td>Contexto Internacional</td>\n",
              "      <td>1982-0240</td>\n",
              "      <td>http://www.scielo.br/j/cint/a/FbFtBW5KZGfRzSdQ...</td>\n",
              "      <td>https://www.scielo.br/j/cint/a/FbFtBW5KZGfRzSd...</td>\n",
              "      <td>/media/hdvm09/bd/007/002/002/003/contexto_inte...</td>\n",
              "      <td>238352</td>\n",
              "    </tr>\n",
              "  </tbody>\n",
              "</table>\n",
              "<p>424 rows × 17 columns</p>\n",
              "</div>\n",
              "      <button class=\"colab-df-convert\" onclick=\"convertToInteractive('df-0488d837-c48d-41af-a68f-e72d1cc4ab8a')\"\n",
              "              title=\"Convert this dataframe to an interactive table.\"\n",
              "              style=\"display:none;\">\n",
              "        \n",
              "  <svg xmlns=\"http://www.w3.org/2000/svg\" height=\"24px\"viewBox=\"0 0 24 24\"\n",
              "       width=\"24px\">\n",
              "    <path d=\"M0 0h24v24H0V0z\" fill=\"none\"/>\n",
              "    <path d=\"M18.56 5.44l.94 2.06.94-2.06 2.06-.94-2.06-.94-.94-2.06-.94 2.06-2.06.94zm-11 1L8.5 8.5l.94-2.06 2.06-.94-2.06-.94L8.5 2.5l-.94 2.06-2.06.94zm10 10l.94 2.06.94-2.06 2.06-.94-2.06-.94-.94-2.06-.94 2.06-2.06.94z\"/><path d=\"M17.41 7.96l-1.37-1.37c-.4-.4-.92-.59-1.43-.59-.52 0-1.04.2-1.43.59L10.3 9.45l-7.72 7.72c-.78.78-.78 2.05 0 2.83L4 21.41c.39.39.9.59 1.41.59.51 0 1.02-.2 1.41-.59l7.78-7.78 2.81-2.81c.8-.78.8-2.07 0-2.86zM5.41 20L4 18.59l7.72-7.72 1.47 1.35L5.41 20z\"/>\n",
              "  </svg>\n",
              "      </button>\n",
              "      \n",
              "  <style>\n",
              "    .colab-df-container {\n",
              "      display:flex;\n",
              "      flex-wrap:wrap;\n",
              "      gap: 12px;\n",
              "    }\n",
              "\n",
              "    .colab-df-convert {\n",
              "      background-color: #E8F0FE;\n",
              "      border: none;\n",
              "      border-radius: 50%;\n",
              "      cursor: pointer;\n",
              "      display: none;\n",
              "      fill: #1967D2;\n",
              "      height: 32px;\n",
              "      padding: 0 0 0 0;\n",
              "      width: 32px;\n",
              "    }\n",
              "\n",
              "    .colab-df-convert:hover {\n",
              "      background-color: #E2EBFA;\n",
              "      box-shadow: 0px 1px 2px rgba(60, 64, 67, 0.3), 0px 1px 3px 1px rgba(60, 64, 67, 0.15);\n",
              "      fill: #174EA6;\n",
              "    }\n",
              "\n",
              "    [theme=dark] .colab-df-convert {\n",
              "      background-color: #3B4455;\n",
              "      fill: #D2E3FC;\n",
              "    }\n",
              "\n",
              "    [theme=dark] .colab-df-convert:hover {\n",
              "      background-color: #434B5C;\n",
              "      box-shadow: 0px 1px 3px 1px rgba(0, 0, 0, 0.15);\n",
              "      filter: drop-shadow(0px 1px 2px rgba(0, 0, 0, 0.3));\n",
              "      fill: #FFFFFF;\n",
              "    }\n",
              "  </style>\n",
              "\n",
              "      <script>\n",
              "        const buttonEl =\n",
              "          document.querySelector('#df-0488d837-c48d-41af-a68f-e72d1cc4ab8a button.colab-df-convert');\n",
              "        buttonEl.style.display =\n",
              "          google.colab.kernel.accessAllowed ? 'block' : 'none';\n",
              "\n",
              "        async function convertToInteractive(key) {\n",
              "          const element = document.querySelector('#df-0488d837-c48d-41af-a68f-e72d1cc4ab8a');\n",
              "          const dataTable =\n",
              "            await google.colab.kernel.invokeFunction('convertToInteractive',\n",
              "                                                     [key], {});\n",
              "          if (!dataTable) return;\n",
              "\n",
              "          const docLinkHtml = 'Like what you see? Visit the ' +\n",
              "            '<a target=\"_blank\" href=https://colab.research.google.com/notebooks/data_table.ipynb>data table notebook</a>'\n",
              "            + ' to learn more about interactive tables.';\n",
              "          element.innerHTML = '';\n",
              "          dataTable['output_type'] = 'display_data';\n",
              "          await google.colab.output.renderOutput(dataTable, element);\n",
              "          const docLink = document.createElement('div');\n",
              "          docLink.innerHTML = docLinkHtml;\n",
              "          element.appendChild(docLink);\n",
              "        }\n",
              "      </script>\n",
              "    </div>\n",
              "  </div>\n",
              "  "
            ]
          },
          "metadata": {},
          "execution_count": 77
        }
      ]
    },
    {
      "cell_type": "code",
      "source": [
        "contexto[\"PY\"].unique()"
      ],
      "metadata": {
        "colab": {
          "base_uri": "https://localhost:8080/"
        },
        "id": "Apkq_SPmDEE6",
        "outputId": "191ef864-ee4c-42f6-f1d4-b082a0d2dcc6"
      },
      "execution_count": 79,
      "outputs": [
        {
          "output_type": "execute_result",
          "data": {
            "text/plain": [
              "array([2006., 2019., 2021., 2018., 2005., 2013., 2017., 2020., 2015.,\n",
              "       2010., 2016., 2007., 2014., 2009., 2002., 2004., 2012., 2008.,\n",
              "       2011., 2003.])"
            ]
          },
          "metadata": {},
          "execution_count": 79
        }
      ]
    },
    {
      "cell_type": "code",
      "source": [
        "contexto[\"PY\"].sum()"
      ],
      "metadata": {
        "colab": {
          "base_uri": "https://localhost:8080/"
        },
        "id": "VkBPeUn9EQ9s",
        "outputId": "dd2f7b4b-60ae-4c80-e36c-72f6e86a1def"
      },
      "execution_count": 81,
      "outputs": [
        {
          "output_type": "execute_result",
          "data": {
            "text/plain": [
              "853728.0"
            ]
          },
          "metadata": {},
          "execution_count": 81
        }
      ]
    }
  ]
}